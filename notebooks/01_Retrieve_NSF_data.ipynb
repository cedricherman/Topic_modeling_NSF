{
 "cells": [
  {
   "cell_type": "markdown",
   "metadata": {},
   "source": [
    "# Download and unzip data folders from NSF website\n",
    "\n",
    "This is a script to download zipfiles from each year on the [NSF website](https://www.nsf.gov/awardsearch/download.jsp).\n",
    "After download of a file is completed, extract it so that it will create\n",
    "a folder named after its year. Each year folder has a one xml file per award.\n",
    "\n",
    "For this project, I downloaded data from 1960 to 2017 which represents approximately 1.5 GB (unzipped in aggregate)"
   ]
  },
  {
   "cell_type": "code",
   "execution_count": 1,
   "metadata": {},
   "outputs": [],
   "source": [
    "# imports necessary for zip file download\n",
    "import requests\n",
    "# part of standard library below\n",
    "from zipfile import ZipFile\n",
    "import re\n",
    "import os"
   ]
  },
  {
   "cell_type": "code",
   "execution_count": 2,
   "metadata": {},
   "outputs": [],
   "source": [
    "# year range\n",
    "start_year = 1960\n",
    "stop_year = 2017\n",
    "years = range(start_year,stop_year+1)"
   ]
  },
  {
   "cell_type": "code",
   "execution_count": null,
   "metadata": {},
   "outputs": [],
   "source": [
    "for y in years:\n",
    "    \n",
    "    # construct url for current year\n",
    "    url = 'https://www.nsf.gov/awardsearch/download?DownloadFileName={}&All=true'.format(y)\n",
    "    # retrieve data in memory at this url\n",
    "    requested_year = requests.get(url)\n",
    "    \n",
    "    # recover name of zipped folder (usually year.zip)\n",
    "    # headers is a dictionary containing information about your request\n",
    "    content_name = requested_year.headers.get('Content-Disposition')\n",
    "    zip_name = re.findall('\\w+.zip', content_name)[0]\n",
    "    \n",
    "    # write zipped folder to disk locally (binary data located in request content)\n",
    "    zipped_dir = os.path.join(os.pardir, 'data', 'raw', zip_name)\n",
    "    with open(zipped_dir,'wb') as f:\n",
    "        f.write(request.content)\n",
    "    \n",
    "    # extract zip file\n",
    "    with ZipFile(zipped_dir, 'r') as thiszip:\n",
    "        # unzipped folder name\n",
    "        folder_path = os.path.join(os.path.dirname(zipped_dir), zip_name.split('.')[0])\n",
    "        # MUST filter list of files in zipped folder\n",
    "        # In 2002 data, there is one named '0225630.xml\\r' and '0225630.xml'\n",
    "        # so use strip() to remove carriage return (\\r)\n",
    "        # Even if there are duplicate of xml file, it will overwrite and keep one only\n",
    "        xml_list = [ xml.strip() for xml in thiszip.namelist() ]\n",
    "        # execute extraction\n",
    "        thiszip.extractall(path = folder_path, members = xml_list)"
   ]
  },
  {
   "cell_type": "code",
   "execution_count": null,
   "metadata": {},
   "outputs": [],
   "source": []
  },
  {
   "cell_type": "code",
   "execution_count": null,
   "metadata": {},
   "outputs": [],
   "source": []
  },
  {
   "cell_type": "code",
   "execution_count": null,
   "metadata": {},
   "outputs": [],
   "source": []
  },
  {
   "cell_type": "code",
   "execution_count": null,
   "metadata": {},
   "outputs": [],
   "source": []
  },
  {
   "cell_type": "markdown",
   "metadata": {},
   "source": [
    "#### Test on one year only"
   ]
  },
  {
   "cell_type": "code",
   "execution_count": 3,
   "metadata": {},
   "outputs": [],
   "source": [
    "y=2018\n",
    "# construct url for current year\n",
    "url = 'https://www.nsf.gov/awardsearch/download?DownloadFileName={}&All=true'.format(y)\n",
    "request = requests.get(url)"
   ]
  },
  {
   "cell_type": "code",
   "execution_count": 4,
   "metadata": {},
   "outputs": [
    {
     "data": {
      "text/plain": [
       "{'Server': 'Apache-Coyote/1.1', 'Content-Disposition': 'attachment; filename=\"2018.zip\"', 'Date': 'Thu, 24 May 2018 16:49:44 GMT', 'Strict-Transport-Security': 'max-age=31536000', 'Content-Length': '3378436', 'Content-Type': 'application/zip'}"
      ]
     },
     "execution_count": 4,
     "metadata": {},
     "output_type": "execute_result"
    }
   ],
   "source": [
    "request.headers"
   ]
  },
  {
   "cell_type": "code",
   "execution_count": 5,
   "metadata": {},
   "outputs": [],
   "source": [
    "# recover name of zip files\n",
    "content_name = request.headers.get('Content-Disposition')"
   ]
  },
  {
   "cell_type": "code",
   "execution_count": 6,
   "metadata": {},
   "outputs": [
    {
     "data": {
      "text/plain": [
       "'attachment; filename=\"2018.zip\"'"
      ]
     },
     "execution_count": 6,
     "metadata": {},
     "output_type": "execute_result"
    }
   ],
   "source": [
    "content_name"
   ]
  },
  {
   "cell_type": "code",
   "execution_count": 7,
   "metadata": {},
   "outputs": [],
   "source": [
    "zip_name = re.findall('\\w+.zip', content_name)[0]"
   ]
  },
  {
   "cell_type": "code",
   "execution_count": 8,
   "metadata": {},
   "outputs": [
    {
     "data": {
      "text/plain": [
       "'2018.zip'"
      ]
     },
     "execution_count": 8,
     "metadata": {},
     "output_type": "execute_result"
    }
   ],
   "source": [
    "zip_name"
   ]
  },
  {
   "cell_type": "code",
   "execution_count": 9,
   "metadata": {},
   "outputs": [],
   "source": [
    "# write zipped folder to disk locally\n",
    "zipped_dir = os.path.join(os.pardir, 'data', 'raw', zip_name)\n",
    "with open(zipped_dir,'wb') as f:\n",
    "    f.write(request.content)"
   ]
  },
  {
   "cell_type": "code",
   "execution_count": 10,
   "metadata": {},
   "outputs": [],
   "source": [
    "# extract zip file\n",
    "with ZipFile(zipped_dir, 'r') as thiszip:\n",
    "    # unzipped folder name\n",
    "    folder_path = os.path.join(os.path.dirname(zipped_dir), zip_name.split('.')[0])\n",
    "    # MUST filter list of files in zipped folder\n",
    "    # In 2002 data, there is one named '0225630.xml\\r' and '0225630.xml'\n",
    "    # so use strip() to remove carriage return (\\r)\n",
    "    # Even if there are duplicate of xml file, it will overwrite and keep one only\n",
    "    xml_list = [ xml.strip() for xml in thiszip.namelist() ]\n",
    "    # execute extraction\n",
    "    thiszip.extractall(path = folder_path, members = xml_list)"
   ]
  },
  {
   "cell_type": "code",
   "execution_count": null,
   "metadata": {},
   "outputs": [],
   "source": []
  },
  {
   "cell_type": "code",
   "execution_count": null,
   "metadata": {},
   "outputs": [],
   "source": []
  },
  {
   "cell_type": "code",
   "execution_count": null,
   "metadata": {},
   "outputs": [],
   "source": []
  }
 ],
 "metadata": {
  "kernelspec": {
   "display_name": "Python 3",
   "language": "python",
   "name": "python3"
  },
  "language_info": {
   "codemirror_mode": {
    "name": "ipython",
    "version": 3
   },
   "file_extension": ".py",
   "mimetype": "text/x-python",
   "name": "python",
   "nbconvert_exporter": "python",
   "pygments_lexer": "ipython3",
   "version": "3.5.4"
  }
 },
 "nbformat": 4,
 "nbformat_minor": 2
}
