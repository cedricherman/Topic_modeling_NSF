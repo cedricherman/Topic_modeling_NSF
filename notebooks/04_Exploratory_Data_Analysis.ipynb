{
 "cells": [
  {
   "cell_type": "markdown",
   "metadata": {},
   "source": [
    "# Exploratory Data Analysis"
   ]
  },
  {
   "cell_type": "code",
   "execution_count": 1,
   "metadata": {},
   "outputs": [],
   "source": [
    "import pandas as pd\n",
    "import os\n",
    "import json\n",
    "from pandas.io.json import json_normalize\n",
    "import seaborn as sns\n",
    "import matplotlib.pyplot as plt"
   ]
  },
  {
   "cell_type": "code",
   "execution_count": 2,
   "metadata": {},
   "outputs": [],
   "source": [
    "# activate matplotlib and set style\n",
    "% matplotlib inline\n",
    "plt.style.use('ggplot')"
   ]
  },
  {
   "cell_type": "code",
   "execution_count": 3,
   "metadata": {},
   "outputs": [],
   "source": [
    "# path to short element json file\n",
    "short_elements_dir = os.path.join(os.pardir,'data', 'interim', 'short_elements.json')"
   ]
  },
  {
   "cell_type": "code",
   "execution_count": 4,
   "metadata": {},
   "outputs": [],
   "source": [
    "# decode json file\n",
    "with open(short_elements_dir, encoding='utf-8') as f:\n",
    "    d = json.load(f)"
   ]
  },
  {
   "cell_type": "code",
   "execution_count": 5,
   "metadata": {},
   "outputs": [],
   "source": [
    "# retrieve institution information\n",
    "df_institution = json_normalize(d, record_path='Institution', meta=['award_id', 'amount', 'eff_date'])"
   ]
  },
  {
   "cell_type": "code",
   "execution_count": 6,
   "metadata": {},
   "outputs": [
    {
     "data": {
      "text/html": [
       "<div>\n",
       "<style>\n",
       "    .dataframe thead tr:only-child th {\n",
       "        text-align: right;\n",
       "    }\n",
       "\n",
       "    .dataframe thead th {\n",
       "        text-align: left;\n",
       "    }\n",
       "\n",
       "    .dataframe tbody tr th {\n",
       "        vertical-align: top;\n",
       "    }\n",
       "</style>\n",
       "<table border=\"1\" class=\"dataframe\">\n",
       "  <thead>\n",
       "    <tr style=\"text-align: right;\">\n",
       "      <th></th>\n",
       "      <th>City</th>\n",
       "      <th>Country</th>\n",
       "      <th>Name</th>\n",
       "      <th>State</th>\n",
       "      <th>StreetAddress</th>\n",
       "      <th>eff_date</th>\n",
       "      <th>award_id</th>\n",
       "      <th>amount</th>\n",
       "    </tr>\n",
       "  </thead>\n",
       "  <tbody>\n",
       "    <tr>\n",
       "      <th>0</th>\n",
       "      <td>BERKELEY</td>\n",
       "      <td>United States</td>\n",
       "      <td>University of California-Berkeley</td>\n",
       "      <td>CA</td>\n",
       "      <td>Sponsored Projects Office</td>\n",
       "      <td>04/15/1960</td>\n",
       "      <td>6000001</td>\n",
       "      <td>125000</td>\n",
       "    </tr>\n",
       "    <tr>\n",
       "      <th>1</th>\n",
       "      <td>Washington</td>\n",
       "      <td>United States</td>\n",
       "      <td>The Geochemical Society</td>\n",
       "      <td>DC</td>\n",
       "      <td>Carnegie Institution for Science</td>\n",
       "      <td>12/15/1961</td>\n",
       "      <td>6100002</td>\n",
       "      <td>28000</td>\n",
       "    </tr>\n",
       "    <tr>\n",
       "      <th>2</th>\n",
       "      <td>BLACKSBURG</td>\n",
       "      <td>United States</td>\n",
       "      <td>Virginia Polytechnic Institute and State Unive...</td>\n",
       "      <td>VA</td>\n",
       "      <td>Sponsored Programs 0170</td>\n",
       "      <td>12/15/1961</td>\n",
       "      <td>6100003</td>\n",
       "      <td>40160</td>\n",
       "    </tr>\n",
       "    <tr>\n",
       "      <th>3</th>\n",
       "      <td>WASHINGTON</td>\n",
       "      <td>United States</td>\n",
       "      <td>American Association For Advancement Science</td>\n",
       "      <td>DC</td>\n",
       "      <td>1200 NEW YORK AVENUE, N.W.</td>\n",
       "      <td>02/15/1962</td>\n",
       "      <td>6100004</td>\n",
       "      <td></td>\n",
       "    </tr>\n",
       "    <tr>\n",
       "      <th>4</th>\n",
       "      <td>ARLINGTON</td>\n",
       "      <td>United States</td>\n",
       "      <td>American Anthropological Assoc</td>\n",
       "      <td>VA</td>\n",
       "      <td>2300 Clarendon Blvd, Suite 1301</td>\n",
       "      <td>02/15/1962</td>\n",
       "      <td>6100005</td>\n",
       "      <td>1334824</td>\n",
       "    </tr>\n",
       "    <tr>\n",
       "      <th>5</th>\n",
       "      <td>Troy</td>\n",
       "      <td>United States</td>\n",
       "      <td>Rensselaer Polytechnic Institute</td>\n",
       "      <td>NY</td>\n",
       "      <td>110 8TH ST</td>\n",
       "      <td>06/09/1961</td>\n",
       "      <td>6100006</td>\n",
       "      <td>169800</td>\n",
       "    </tr>\n",
       "    <tr>\n",
       "      <th>6</th>\n",
       "      <td>Cambridge</td>\n",
       "      <td>United States</td>\n",
       "      <td>Massachusetts Institute of Technology</td>\n",
       "      <td>MA</td>\n",
       "      <td>77 MASSACHUSETTS AVE</td>\n",
       "      <td>03/15/1961</td>\n",
       "      <td>6100100</td>\n",
       "      <td>198000</td>\n",
       "    </tr>\n",
       "    <tr>\n",
       "      <th>7</th>\n",
       "      <td>Washington</td>\n",
       "      <td>United States</td>\n",
       "      <td>National Academy of Sciences</td>\n",
       "      <td>DC</td>\n",
       "      <td>500 FIFTH STREET NW</td>\n",
       "      <td>02/15/1963</td>\n",
       "      <td>6200002</td>\n",
       "      <td>0</td>\n",
       "    </tr>\n",
       "    <tr>\n",
       "      <th>8</th>\n",
       "      <td>HONOLULU</td>\n",
       "      <td>United States</td>\n",
       "      <td>University of Hawaii</td>\n",
       "      <td>HI</td>\n",
       "      <td>2440 Campus Road, Box 368</td>\n",
       "      <td>09/24/1962</td>\n",
       "      <td>6200003</td>\n",
       "      <td>23875</td>\n",
       "    </tr>\n",
       "    <tr>\n",
       "      <th>9</th>\n",
       "      <td>Washington</td>\n",
       "      <td>United States</td>\n",
       "      <td>American Geophysical Union</td>\n",
       "      <td>DC</td>\n",
       "      <td>2000 FLORIDA AVE NW</td>\n",
       "      <td>10/15/1962</td>\n",
       "      <td>6200005</td>\n",
       "      <td>0</td>\n",
       "    </tr>\n",
       "  </tbody>\n",
       "</table>\n",
       "</div>"
      ],
      "text/plain": [
       "         City        Country  \\\n",
       "0    BERKELEY  United States   \n",
       "1  Washington  United States   \n",
       "2  BLACKSBURG  United States   \n",
       "3  WASHINGTON  United States   \n",
       "4   ARLINGTON  United States   \n",
       "5        Troy  United States   \n",
       "6   Cambridge  United States   \n",
       "7  Washington  United States   \n",
       "8    HONOLULU  United States   \n",
       "9  Washington  United States   \n",
       "\n",
       "                                                Name State  \\\n",
       "0                  University of California-Berkeley    CA   \n",
       "1                            The Geochemical Society    DC   \n",
       "2  Virginia Polytechnic Institute and State Unive...    VA   \n",
       "3       American Association For Advancement Science    DC   \n",
       "4                     American Anthropological Assoc    VA   \n",
       "5                   Rensselaer Polytechnic Institute    NY   \n",
       "6              Massachusetts Institute of Technology    MA   \n",
       "7                       National Academy of Sciences    DC   \n",
       "8                               University of Hawaii    HI   \n",
       "9                         American Geophysical Union    DC   \n",
       "\n",
       "                      StreetAddress    eff_date  award_id   amount  \n",
       "0         Sponsored Projects Office  04/15/1960   6000001   125000  \n",
       "1  Carnegie Institution for Science  12/15/1961   6100002    28000  \n",
       "2           Sponsored Programs 0170  12/15/1961   6100003    40160  \n",
       "3        1200 NEW YORK AVENUE, N.W.  02/15/1962   6100004           \n",
       "4   2300 Clarendon Blvd, Suite 1301  02/15/1962   6100005  1334824  \n",
       "5                        110 8TH ST  06/09/1961   6100006   169800  \n",
       "6              77 MASSACHUSETTS AVE  03/15/1961   6100100   198000  \n",
       "7               500 FIFTH STREET NW  02/15/1963   6200002        0  \n",
       "8         2440 Campus Road, Box 368  09/24/1962   6200003    23875  \n",
       "9               2000 FLORIDA AVE NW  10/15/1962   6200005        0  "
      ]
     },
     "execution_count": 6,
     "metadata": {},
     "output_type": "execute_result"
    }
   ],
   "source": [
    "df_institution.head(10)"
   ]
  },
  {
   "cell_type": "markdown",
   "metadata": {},
   "source": [
    "### Deal with missing data"
   ]
  },
  {
   "cell_type": "code",
   "execution_count": 7,
   "metadata": {},
   "outputs": [],
   "source": [
    "df_institution.amount.replace('', pd.np.nan, inplace = True)"
   ]
  },
  {
   "cell_type": "code",
   "execution_count": 8,
   "metadata": {},
   "outputs": [],
   "source": [
    "# convert amount to numeric before setting 0 to nan\n",
    "df_institution.amount = df_institution.amount.astype('float64')\n",
    "df_institution.loc[df_institution.amount == 0, 'amount'] = pd.np.nan"
   ]
  },
  {
   "cell_type": "code",
   "execution_count": 9,
   "metadata": {},
   "outputs": [],
   "source": [
    "df_institution.Name.replace('', pd.np.nan, inplace = True)"
   ]
  },
  {
   "cell_type": "code",
   "execution_count": 10,
   "metadata": {},
   "outputs": [],
   "source": [
    "df_institution.eff_date = pd.to_datetime(df_institution.eff_date, format='%m/%d/%Y')\n",
    "# df_institution.set_index('eff_date', inplace = True)"
   ]
  },
  {
   "cell_type": "code",
   "execution_count": 11,
   "metadata": {},
   "outputs": [
    {
     "name": "stdout",
     "output_type": "stream",
     "text": [
      "<class 'pandas.core.frame.DataFrame'>\n",
      "RangeIndex: 438574 entries, 0 to 438573\n",
      "Data columns (total 8 columns):\n",
      "City             438574 non-null object\n",
      "Country          438574 non-null object\n",
      "Name             438573 non-null object\n",
      "State            438574 non-null object\n",
      "StreetAddress    438574 non-null object\n",
      "eff_date         438574 non-null datetime64[ns]\n",
      "award_id         438574 non-null int32\n",
      "amount           435528 non-null float64\n",
      "dtypes: datetime64[ns](1), float64(1), int32(1), object(5)\n",
      "memory usage: 25.1+ MB\n"
     ]
    }
   ],
   "source": [
    "df_institution.info()"
   ]
  },
  {
   "cell_type": "code",
   "execution_count": 12,
   "metadata": {},
   "outputs": [
    {
     "data": {
      "text/html": [
       "<div>\n",
       "<style>\n",
       "    .dataframe thead tr:only-child th {\n",
       "        text-align: right;\n",
       "    }\n",
       "\n",
       "    .dataframe thead th {\n",
       "        text-align: left;\n",
       "    }\n",
       "\n",
       "    .dataframe tbody tr th {\n",
       "        vertical-align: top;\n",
       "    }\n",
       "</style>\n",
       "<table border=\"1\" class=\"dataframe\">\n",
       "  <thead>\n",
       "    <tr style=\"text-align: right;\">\n",
       "      <th></th>\n",
       "      <th>City</th>\n",
       "      <th>Country</th>\n",
       "      <th>Name</th>\n",
       "      <th>State</th>\n",
       "      <th>StreetAddress</th>\n",
       "      <th>eff_date</th>\n",
       "      <th>award_id</th>\n",
       "      <th>amount</th>\n",
       "    </tr>\n",
       "  </thead>\n",
       "  <tbody>\n",
       "    <tr>\n",
       "      <th>0</th>\n",
       "      <td>BERKELEY</td>\n",
       "      <td>United States</td>\n",
       "      <td>University of California-Berkeley</td>\n",
       "      <td>CA</td>\n",
       "      <td>Sponsored Projects Office</td>\n",
       "      <td>1960-04-15</td>\n",
       "      <td>6000001</td>\n",
       "      <td>125000.0</td>\n",
       "    </tr>\n",
       "    <tr>\n",
       "      <th>1</th>\n",
       "      <td>Washington</td>\n",
       "      <td>United States</td>\n",
       "      <td>The Geochemical Society</td>\n",
       "      <td>DC</td>\n",
       "      <td>Carnegie Institution for Science</td>\n",
       "      <td>1961-12-15</td>\n",
       "      <td>6100002</td>\n",
       "      <td>28000.0</td>\n",
       "    </tr>\n",
       "    <tr>\n",
       "      <th>2</th>\n",
       "      <td>BLACKSBURG</td>\n",
       "      <td>United States</td>\n",
       "      <td>Virginia Polytechnic Institute and State Unive...</td>\n",
       "      <td>VA</td>\n",
       "      <td>Sponsored Programs 0170</td>\n",
       "      <td>1961-12-15</td>\n",
       "      <td>6100003</td>\n",
       "      <td>40160.0</td>\n",
       "    </tr>\n",
       "    <tr>\n",
       "      <th>3</th>\n",
       "      <td>WASHINGTON</td>\n",
       "      <td>United States</td>\n",
       "      <td>American Association For Advancement Science</td>\n",
       "      <td>DC</td>\n",
       "      <td>1200 NEW YORK AVENUE, N.W.</td>\n",
       "      <td>1962-02-15</td>\n",
       "      <td>6100004</td>\n",
       "      <td>NaN</td>\n",
       "    </tr>\n",
       "    <tr>\n",
       "      <th>4</th>\n",
       "      <td>ARLINGTON</td>\n",
       "      <td>United States</td>\n",
       "      <td>American Anthropological Assoc</td>\n",
       "      <td>VA</td>\n",
       "      <td>2300 Clarendon Blvd, Suite 1301</td>\n",
       "      <td>1962-02-15</td>\n",
       "      <td>6100005</td>\n",
       "      <td>1334824.0</td>\n",
       "    </tr>\n",
       "  </tbody>\n",
       "</table>\n",
       "</div>"
      ],
      "text/plain": [
       "         City        Country  \\\n",
       "0    BERKELEY  United States   \n",
       "1  Washington  United States   \n",
       "2  BLACKSBURG  United States   \n",
       "3  WASHINGTON  United States   \n",
       "4   ARLINGTON  United States   \n",
       "\n",
       "                                                Name State  \\\n",
       "0                  University of California-Berkeley    CA   \n",
       "1                            The Geochemical Society    DC   \n",
       "2  Virginia Polytechnic Institute and State Unive...    VA   \n",
       "3       American Association For Advancement Science    DC   \n",
       "4                     American Anthropological Assoc    VA   \n",
       "\n",
       "                      StreetAddress   eff_date  award_id     amount  \n",
       "0         Sponsored Projects Office 1960-04-15   6000001   125000.0  \n",
       "1  Carnegie Institution for Science 1961-12-15   6100002    28000.0  \n",
       "2           Sponsored Programs 0170 1961-12-15   6100003    40160.0  \n",
       "3        1200 NEW YORK AVENUE, N.W. 1962-02-15   6100004        NaN  \n",
       "4   2300 Clarendon Blvd, Suite 1301 1962-02-15   6100005  1334824.0  "
      ]
     },
     "execution_count": 12,
     "metadata": {},
     "output_type": "execute_result"
    }
   ],
   "source": [
    "df_institution.head()"
   ]
  },
  {
   "cell_type": "markdown",
   "metadata": {},
   "source": [
    "### Take a look at institutions"
   ]
  },
  {
   "cell_type": "code",
   "execution_count": 13,
   "metadata": {},
   "outputs": [],
   "source": [
    "df_count = df_institution[df_institution.amount.notnull()].groupby('Name').amount.agg(['sum', 'count'])"
   ]
  },
  {
   "cell_type": "code",
   "execution_count": 14,
   "metadata": {},
   "outputs": [],
   "source": [
    "df_count.rename(columns={'sum' : 'total_amount', 'count': 'num_grant'}, inplace=True)"
   ]
  },
  {
   "cell_type": "code",
   "execution_count": 15,
   "metadata": {},
   "outputs": [
    {
     "data": {
      "text/html": [
       "<div>\n",
       "<style>\n",
       "    .dataframe thead tr:only-child th {\n",
       "        text-align: right;\n",
       "    }\n",
       "\n",
       "    .dataframe thead th {\n",
       "        text-align: left;\n",
       "    }\n",
       "\n",
       "    .dataframe tbody tr th {\n",
       "        vertical-align: top;\n",
       "    }\n",
       "</style>\n",
       "<table border=\"1\" class=\"dataframe\">\n",
       "  <thead>\n",
       "    <tr style=\"text-align: right;\">\n",
       "      <th></th>\n",
       "      <th>total_amount</th>\n",
       "      <th>num_grant</th>\n",
       "    </tr>\n",
       "    <tr>\n",
       "      <th>Name</th>\n",
       "      <th></th>\n",
       "      <th></th>\n",
       "    </tr>\n",
       "  </thead>\n",
       "  <tbody>\n",
       "    <tr>\n",
       "      <th>DATA NOT AVAILABLE</th>\n",
       "      <td>215000.0</td>\n",
       "      <td>1</td>\n",
       "    </tr>\n",
       "    <tr>\n",
       "      <th>18F GSA</th>\n",
       "      <td>1509064.0</td>\n",
       "      <td>4</td>\n",
       "    </tr>\n",
       "    <tr>\n",
       "      <th>21st Century School Fund</th>\n",
       "      <td>426044.0</td>\n",
       "      <td>2</td>\n",
       "    </tr>\n",
       "    <tr>\n",
       "      <th>27 International Geographical Congress</th>\n",
       "      <td>883860.0</td>\n",
       "      <td>2</td>\n",
       "    </tr>\n",
       "    <tr>\n",
       "      <th>2Cimple Inc</th>\n",
       "      <td>737305.0</td>\n",
       "      <td>2</td>\n",
       "    </tr>\n",
       "  </tbody>\n",
       "</table>\n",
       "</div>"
      ],
      "text/plain": [
       "                                        total_amount  num_grant\n",
       "Name                                                           \n",
       "  DATA NOT AVAILABLE                        215000.0          1\n",
       "18F GSA                                    1509064.0          4\n",
       "21st Century School Fund                    426044.0          2\n",
       "27 International Geographical Congress      883860.0          2\n",
       "2Cimple Inc                                 737305.0          2"
      ]
     },
     "execution_count": 15,
     "metadata": {},
     "output_type": "execute_result"
    }
   ],
   "source": [
    "df_count.head()"
   ]
  },
  {
   "cell_type": "code",
   "execution_count": 16,
   "metadata": {},
   "outputs": [],
   "source": [
    "# normalize to billions of dollars\n",
    "df_count.total_amount = df_count.total_amount/1e9"
   ]
  },
  {
   "cell_type": "code",
   "execution_count": 17,
   "metadata": {},
   "outputs": [
    {
     "data": {
      "image/png": "[encoded data removed]",
      "text/plain": [
       "<Figure size 864x360 with 1 Axes>"
      ]
     },
     "metadata": {},
     "output_type": "display_data"
    }
   ],
   "source": [
    "fig , ax = plt.subplots(figsize = (12, 5))\n",
    "df_count.sort_values('total_amount', ascending=False).head(10).total_amount.plot.barh(ax=ax, color='g')\n",
    "ax.invert_yaxis()\n",
    "ax.set_xlabel('USD in billions', color='g', fontsize = 14)\n",
    "ax.tick_params(axis = 'y', colors = 'b')\n",
    "ax.set_ylabel('')\n",
    "_= ax.set_title('University benefits the most from NSF grants historically', fontsize=14)\n",
    "plt.tight_layout()\n",
    "fig.savefig(os.path.join(os.pardir, 'img', 'TotalAmount.png'))"
   ]
  },
  {
   "cell_type": "code",
   "execution_count": 18,
   "metadata": {},
   "outputs": [
    {
     "data": {
      "image/png": "[encoded data removed]",
      "text/plain": [
       "<Figure size 864x360 with 1 Axes>"
      ]
     },
     "metadata": {},
     "output_type": "display_data"
    }
   ],
   "source": [
    "fig2 , ax2 = plt.subplots(figsize = (12, 5))\n",
    "df_count.sort_values('num_grant', ascending=False).head(10).num_grant.plot.barh(ax=ax2, color='b')\n",
    "ax2.invert_yaxis()\n",
    "ax2.set_xlabel('Number of Grants', color='k', fontsize = 14)\n",
    "ax2.tick_params(axis = 'y', colors = 'b')\n",
    "ax2.set_ylabel('')\n",
    "_= ax2.set_title('Most grants are given to Universities', fontsize=14)\n",
    "plt.tight_layout()\n",
    "fig2.savefig(os.path.join(os.pardir, 'img', 'Number0fgrants.png'))"
   ]
  },
  {
   "cell_type": "markdown",
   "metadata": {},
   "source": [
    "### A closer look at U of M and Cornell"
   ]
  },
  {
   "cell_type": "code",
   "execution_count": 26,
   "metadata": {},
   "outputs": [
    {
     "data": {
      "text/html": [
       "<div>\n",
       "<style>\n",
       "    .dataframe thead tr:only-child th {\n",
       "        text-align: right;\n",
       "    }\n",
       "\n",
       "    .dataframe thead th {\n",
       "        text-align: left;\n",
       "    }\n",
       "\n",
       "    .dataframe tbody tr th {\n",
       "        vertical-align: top;\n",
       "    }\n",
       "</style>\n",
       "<table border=\"1\" class=\"dataframe\">\n",
       "  <thead>\n",
       "    <tr style=\"text-align: right;\">\n",
       "      <th></th>\n",
       "      <th>eff_date</th>\n",
       "      <th>amount</th>\n",
       "      <th>Name</th>\n",
       "    </tr>\n",
       "  </thead>\n",
       "  <tbody>\n",
       "    <tr>\n",
       "      <th>95</th>\n",
       "      <td>1967-05-15</td>\n",
       "      <td>42000.0</td>\n",
       "      <td>University of Michigan Ann Arbor</td>\n",
       "    </tr>\n",
       "    <tr>\n",
       "      <th>112</th>\n",
       "      <td>1967-11-27</td>\n",
       "      <td>60317912.0</td>\n",
       "      <td>Cornell University</td>\n",
       "    </tr>\n",
       "    <tr>\n",
       "      <th>301</th>\n",
       "      <td>1970-09-01</td>\n",
       "      <td>326600.0</td>\n",
       "      <td>University of Michigan Ann Arbor</td>\n",
       "    </tr>\n",
       "    <tr>\n",
       "      <th>377</th>\n",
       "      <td>1969-05-01</td>\n",
       "      <td>35000.0</td>\n",
       "      <td>Cornell University</td>\n",
       "    </tr>\n",
       "    <tr>\n",
       "      <th>382</th>\n",
       "      <td>1969-07-01</td>\n",
       "      <td>140000.0</td>\n",
       "      <td>Cornell University</td>\n",
       "    </tr>\n",
       "  </tbody>\n",
       "</table>\n",
       "</div>"
      ],
      "text/plain": [
       "      eff_date      amount                              Name\n",
       "95  1967-05-15     42000.0  University of Michigan Ann Arbor\n",
       "112 1967-11-27  60317912.0                Cornell University\n",
       "301 1970-09-01    326600.0  University of Michigan Ann Arbor\n",
       "377 1969-05-01     35000.0                Cornell University\n",
       "382 1969-07-01    140000.0                Cornell University"
      ]
     },
     "execution_count": 26,
     "metadata": {},
     "output_type": "execute_result"
    }
   ],
   "source": [
    "# keep Michigan and Cornell\n",
    "crit = df_institution.Name.isin(['University of Michigan Ann Arbor', 'Cornell University'])\n",
    "df_spe = df_institution.loc[ crit ,['eff_date', 'amount', 'Name']]\n",
    "df_spe.head()"
   ]
  },
  {
   "cell_type": "code",
   "execution_count": 27,
   "metadata": {},
   "outputs": [],
   "source": [
    "# filter out of range date \n",
    "df_spe = df_spe[df_spe.eff_date > '1900-01-01']"
   ]
  },
  {
   "cell_type": "code",
   "execution_count": 28,
   "metadata": {},
   "outputs": [],
   "source": [
    "# same date appears multiple times, groupby date and Name\n",
    "df_spe = df_spe.groupby(['eff_date', 'Name']).agg('sum')"
   ]
  },
  {
   "cell_type": "code",
   "execution_count": 29,
   "metadata": {},
   "outputs": [
    {
     "data": {
      "text/html": [
       "<div>\n",
       "<style>\n",
       "    .dataframe thead tr:only-child th {\n",
       "        text-align: right;\n",
       "    }\n",
       "\n",
       "    .dataframe thead th {\n",
       "        text-align: left;\n",
       "    }\n",
       "\n",
       "    .dataframe tbody tr th {\n",
       "        vertical-align: top;\n",
       "    }\n",
       "</style>\n",
       "<table border=\"1\" class=\"dataframe\">\n",
       "  <thead>\n",
       "    <tr>\n",
       "      <th></th>\n",
       "      <th colspan=\"2\" halign=\"left\">amount</th>\n",
       "    </tr>\n",
       "    <tr>\n",
       "      <th>Name</th>\n",
       "      <th>Cornell University</th>\n",
       "      <th>University of Michigan Ann Arbor</th>\n",
       "    </tr>\n",
       "    <tr>\n",
       "      <th>eff_date</th>\n",
       "      <th></th>\n",
       "      <th></th>\n",
       "    </tr>\n",
       "  </thead>\n",
       "  <tbody>\n",
       "    <tr>\n",
       "      <th>1969-11-26</th>\n",
       "      <td>414467.0</td>\n",
       "      <td>440612.0</td>\n",
       "    </tr>\n",
       "    <tr>\n",
       "      <th>1970-09-01</th>\n",
       "      <td>32200.0</td>\n",
       "      <td>439200.0</td>\n",
       "    </tr>\n",
       "    <tr>\n",
       "      <th>1971-06-01</th>\n",
       "      <td>280000.0</td>\n",
       "      <td>3100000.0</td>\n",
       "    </tr>\n",
       "    <tr>\n",
       "      <th>1971-06-15</th>\n",
       "      <td>246300.0</td>\n",
       "      <td>309150.0</td>\n",
       "    </tr>\n",
       "    <tr>\n",
       "      <th>1972-01-01</th>\n",
       "      <td>228000.0</td>\n",
       "      <td>213800.0</td>\n",
       "    </tr>\n",
       "  </tbody>\n",
       "</table>\n",
       "</div>"
      ],
      "text/plain": [
       "                       amount                                 \n",
       "Name       Cornell University University of Michigan Ann Arbor\n",
       "eff_date                                                      \n",
       "1969-11-26           414467.0                         440612.0\n",
       "1970-09-01            32200.0                         439200.0\n",
       "1971-06-01           280000.0                        3100000.0\n",
       "1971-06-15           246300.0                         309150.0\n",
       "1972-01-01           228000.0                         213800.0"
      ]
     },
     "execution_count": 29,
     "metadata": {},
     "output_type": "execute_result"
    }
   ],
   "source": [
    "# amount received per date and per university\n",
    "df_spe = df_spe.unstack().dropna()\n",
    "df_spe.head()"
   ]
  },
  {
   "cell_type": "code",
   "execution_count": 34,
   "metadata": {},
   "outputs": [],
   "source": [
    "# take the cumulative sum\n",
    "df_spe = df_spe.cumsum()"
   ]
  },
  {
   "cell_type": "code",
   "execution_count": 36,
   "metadata": {},
   "outputs": [
    {
     "data": {
      "text/plain": [
       "<matplotlib.axes._subplots.AxesSubplot at 0x22581333588>"
      ]
     },
     "execution_count": 36,
     "metadata": {},
     "output_type": "execute_result"
    },
    {
     "data": {
      "image/png": "[encoded data removed]",
      "text/plain": [
       "<Figure size 864x360 with 1 Axes>"
      ]
     },
     "metadata": {},
     "output_type": "display_data"
    }
   ],
   "source": [
    "fig3 , ax3 = plt.subplots(figsize = (12, 5))\n",
    "_ = df_spe.plot.line(ax=ax3)"
   ]
  },
  {
   "cell_type": "code",
   "execution_count": null,
   "metadata": {},
   "outputs": [],
   "source": []
  }
 ],
 "metadata": {
  "kernelspec": {
   "display_name": "Python 3",
   "language": "python",
   "name": "python3"
  },
  "language_info": {
   "codemirror_mode": {
    "name": "ipython",
    "version": 3
   },
   "file_extension": ".py",
   "mimetype": "text/x-python",
   "name": "python",
   "nbconvert_exporter": "python",
   "pygments_lexer": "ipython3",
   "version": "3.5.4"
  }
 },
 "nbformat": 4,
 "nbformat_minor": 2
}
