{
 "cells": [
  {
   "cell_type": "markdown",
   "metadata": {},
   "source": [
    "# Exploratory Data Analysis"
   ]
  },
  {
   "cell_type": "markdown",
   "metadata": {},
   "source": [
    "THe NSF is organized by directorate as follows:\n",
    "1. Directorate for Biological Sciences\n",
    "2. Directorate for Computer & Information Science & Engineering\n",
    "3. Directorate for Education & Human Resources\n",
    "4. Directorate for Engineering\n",
    "5. Directorate for Geosciences\n",
    "6. Directorate for Mathematical & Physical Sciences\n",
    "7. Directorate for Social, Behavioral & Economic Sciences\n",
    "\n",
    "It seems natural to think those would be topics we can identify based on award's abstracts.\n",
    "Each directorate has multiple division.\n",
    "There is also a number of offices which we will group together \n",
    "and treat them at the same level as directorate\n",
    "\n",
    "First, let's take a look at our short element data."
   ]
  },
  {
   "cell_type": "code",
   "execution_count": 1,
   "metadata": {},
   "outputs": [],
   "source": [
    "import pandas as pd\n",
    "import re\n",
    "import os\n",
    "import json\n",
    "from itertools import combinations\n",
    "from sklearn.feature_extraction import stop_words\n",
    "from pandas.io.json import json_normalize"
   ]
  },
  {
   "cell_type": "code",
   "execution_count": 2,
   "metadata": {},
   "outputs": [],
   "source": [
    "# path to short element json file\n",
    "short_elements_dir = os.path.join(os.pardir,'data', 'interim', 'short_elements.json')   "
   ]
  },
  {
   "cell_type": "code",
   "execution_count": 3,
   "metadata": {},
   "outputs": [],
   "source": [
    "# decode json file\n",
    "with open(short_elements_dir, encoding='utf-8') as f:\n",
    "    d = json.load(f)"
   ]
  },
  {
   "cell_type": "code",
   "execution_count": 4,
   "metadata": {},
   "outputs": [],
   "source": [
    "# create dataframe based on list of dictionaries\n",
    "df_short = json_normalize(d, meta=['award_id', 'award_instr'])\n",
    "# remove nested data (some keys have value that contains list of dict)\n",
    "df_short = df_short.drop(['Institution', 'Investigator', 'ProgramElement'], axis = 1)"
   ]
  },
  {
   "cell_type": "code",
   "execution_count": 40,
   "metadata": {
    "scrolled": false
   },
   "outputs": [
    {
     "data": {
      "text/html": [
       "<div>\n",
       "<style>\n",
       "    .dataframe thead tr:only-child th {\n",
       "        text-align: right;\n",
       "    }\n",
       "\n",
       "    .dataframe thead th {\n",
       "        text-align: left;\n",
       "    }\n",
       "\n",
       "    .dataframe tbody tr th {\n",
       "        vertical-align: top;\n",
       "    }\n",
       "</style>\n",
       "<table border=\"1\" class=\"dataframe\">\n",
       "  <thead>\n",
       "    <tr style=\"text-align: right;\">\n",
       "      <th></th>\n",
       "      <th>amount</th>\n",
       "      <th>award_id</th>\n",
       "      <th>award_instr</th>\n",
       "      <th>eff_date</th>\n",
       "      <th>exp_date</th>\n",
       "      <th>nsf_officer</th>\n",
       "      <th>org_code</th>\n",
       "      <th>org_direct</th>\n",
       "      <th>org_div</th>\n",
       "      <th>title</th>\n",
       "    </tr>\n",
       "  </thead>\n",
       "  <tbody>\n",
       "    <tr>\n",
       "      <th>0</th>\n",
       "      <td>125000.0</td>\n",
       "      <td>6000001</td>\n",
       "      <td>Standard Grant</td>\n",
       "      <td>1960-04-15</td>\n",
       "      <td>1960-03-31</td>\n",
       "      <td>NaN</td>\n",
       "      <td>5010000</td>\n",
       "      <td>[direct, for, computer, info, scie, enginr]</td>\n",
       "      <td>Division of Computing and Communication Founda...</td>\n",
       "      <td>Chemical Education Material Study (G12226)</td>\n",
       "    </tr>\n",
       "    <tr>\n",
       "      <th>1</th>\n",
       "      <td>28000.0</td>\n",
       "      <td>6100002</td>\n",
       "      <td>Standard Grant</td>\n",
       "      <td>1961-12-15</td>\n",
       "      <td>1962-12-31</td>\n",
       "      <td>NaN</td>\n",
       "      <td>5020000</td>\n",
       "      <td>[direct, for, computer, info, scie, enginr]</td>\n",
       "      <td>Div Of Information &amp; Intelligent Systems</td>\n",
       "      <td>Translation and Publication of the 1961 Issues...</td>\n",
       "    </tr>\n",
       "    <tr>\n",
       "      <th>2</th>\n",
       "      <td>40160.0</td>\n",
       "      <td>6100003</td>\n",
       "      <td>Standard Grant</td>\n",
       "      <td>1961-12-15</td>\n",
       "      <td>1965-01-31</td>\n",
       "      <td>NaN</td>\n",
       "      <td>5090000</td>\n",
       "      <td>[direct, for, computer, info, scie, enginr]</td>\n",
       "      <td>Office of Advanced Cyberinfrastructure (OAC)</td>\n",
       "      <td>Advanced Science Seminar in Soil Clay Mineralo...</td>\n",
       "    </tr>\n",
       "    <tr>\n",
       "      <th>3</th>\n",
       "      <td>NaN</td>\n",
       "      <td>6100004</td>\n",
       "      <td>Standard Grant</td>\n",
       "      <td>1962-02-15</td>\n",
       "      <td>1966-05-31</td>\n",
       "      <td>NaN</td>\n",
       "      <td>5010200</td>\n",
       "      <td>[direct, for, computer, info, scie, enginr]</td>\n",
       "      <td>Division of Computing and Communication Founda...</td>\n",
       "      <td>Development of Science Teaching Materials For ...</td>\n",
       "    </tr>\n",
       "    <tr>\n",
       "      <th>4</th>\n",
       "      <td>1334824.0</td>\n",
       "      <td>6100005</td>\n",
       "      <td>Standard Grant</td>\n",
       "      <td>1962-02-15</td>\n",
       "      <td>1968-09-30</td>\n",
       "      <td>NaN</td>\n",
       "      <td>5010200</td>\n",
       "      <td>[direct, for, computer, info, scie, enginr]</td>\n",
       "      <td>Division of Computing and Communication Founda...</td>\n",
       "      <td>A Project For the Development of the Education...</td>\n",
       "    </tr>\n",
       "  </tbody>\n",
       "</table>\n",
       "</div>"
      ],
      "text/plain": [
       "      amount  award_id     award_instr   eff_date   exp_date nsf_officer  \\\n",
       "0   125000.0   6000001  Standard Grant 1960-04-15 1960-03-31         NaN   \n",
       "1    28000.0   6100002  Standard Grant 1961-12-15 1962-12-31         NaN   \n",
       "2    40160.0   6100003  Standard Grant 1961-12-15 1965-01-31         NaN   \n",
       "3        NaN   6100004  Standard Grant 1962-02-15 1966-05-31         NaN   \n",
       "4  1334824.0   6100005  Standard Grant 1962-02-15 1968-09-30         NaN   \n",
       "\n",
       "  org_code                                   org_direct  \\\n",
       "0  5010000  [direct, for, computer, info, scie, enginr]   \n",
       "1  5020000  [direct, for, computer, info, scie, enginr]   \n",
       "2  5090000  [direct, for, computer, info, scie, enginr]   \n",
       "3  5010200  [direct, for, computer, info, scie, enginr]   \n",
       "4  5010200  [direct, for, computer, info, scie, enginr]   \n",
       "\n",
       "                                             org_div  \\\n",
       "0  Division of Computing and Communication Founda...   \n",
       "1           Div Of Information & Intelligent Systems   \n",
       "2       Office of Advanced Cyberinfrastructure (OAC)   \n",
       "3  Division of Computing and Communication Founda...   \n",
       "4  Division of Computing and Communication Founda...   \n",
       "\n",
       "                                               title  \n",
       "0         Chemical Education Material Study (G12226)  \n",
       "1  Translation and Publication of the 1961 Issues...  \n",
       "2  Advanced Science Seminar in Soil Clay Mineralo...  \n",
       "3  Development of Science Teaching Materials For ...  \n",
       "4  A Project For the Development of the Education...  "
      ]
     },
     "execution_count": 40,
     "metadata": {},
     "output_type": "execute_result"
    }
   ],
   "source": [
    "df_short.head()"
   ]
  },
  {
   "cell_type": "markdown",
   "metadata": {},
   "source": [
    "When an officer name is not available, label it as Nan. The string 'name not available' has different spacing."
   ]
  },
  {
   "cell_type": "code",
   "execution_count": null,
   "metadata": {},
   "outputs": [],
   "source": [
    "# separate each word \n",
    "df_short.nsf_officer = df_short.nsf_officer.str.split()\n",
    "# recombine in a controlled spacing convention\n",
    "df_short.nsf_officer = df_short.nsf_officer.str.join(' ')\n",
    "# replace missing officer's name by Nan\n",
    "df_short.nsf_officer.replace('name not available',pd.np.nan, inplace = True)"
   ]
  },
  {
   "cell_type": "markdown",
   "metadata": {},
   "source": [
    "Convert date to datetime object."
   ]
  },
  {
   "cell_type": "code",
   "execution_count": 24,
   "metadata": {},
   "outputs": [],
   "source": [
    "# convert date string to datetime object\n",
    "df_short.eff_date = pd.to_datetime(df_short.eff_date, format='%m/%d/%Y')\n",
    "df_short.exp_date = pd.to_datetime(df_short.exp_date, format='%m/%d/%Y')"
   ]
  },
  {
   "cell_type": "markdown",
   "metadata": {},
   "source": [
    "Mark missing amount as Nan"
   ]
  },
  {
   "cell_type": "code",
   "execution_count": 28,
   "metadata": {},
   "outputs": [],
   "source": [
    "df_short.amount.replace('',pd.np.nan, inplace = True)"
   ]
  },
  {
   "cell_type": "markdown",
   "metadata": {},
   "source": [
    "Mark missing directorate as Nan"
   ]
  },
  {
   "cell_type": "code",
   "execution_count": 32,
   "metadata": {},
   "outputs": [],
   "source": [
    "df_short.org_direct.replace('',pd.np.nan, inplace = True)"
   ]
  },
  {
   "cell_type": "code",
   "execution_count": 33,
   "metadata": {},
   "outputs": [
    {
     "name": "stdout",
     "output_type": "stream",
     "text": [
      "<class 'pandas.core.frame.DataFrame'>\n",
      "RangeIndex: 438352 entries, 0 to 438351\n",
      "Data columns (total 10 columns):\n",
      "amount         438245 non-null float64\n",
      "award_id       438352 non-null int64\n",
      "award_instr    438352 non-null object\n",
      "eff_date       438352 non-null datetime64[ns]\n",
      "exp_date       438352 non-null datetime64[ns]\n",
      "nsf_officer    368565 non-null object\n",
      "org_code       438352 non-null object\n",
      "org_direct     438222 non-null object\n",
      "org_div        438352 non-null object\n",
      "title          438352 non-null object\n",
      "dtypes: datetime64[ns](2), float64(1), int64(1), object(6)\n",
      "memory usage: 33.4+ MB\n"
     ]
    }
   ],
   "source": [
    "df_short.info()"
   ]
  },
  {
   "cell_type": "markdown",
   "metadata": {},
   "source": [
    "Directorate have different abbreviations. Office are also listed at the same level as directorate."
   ]
  },
  {
   "cell_type": "code",
   "execution_count": 34,
   "metadata": {},
   "outputs": [
    {
     "data": {
      "text/plain": [
       "Direct For Mathematical & Physical Scien                        90586\n",
       "Directorate For Engineering                                     70718\n",
       "Direct For Biological Sciences                                  62424\n",
       "Directorate For Geosciences                                     61959\n",
       "Direct For Computer & Info Scie & Enginr                        53079\n",
       "Direct For Education and Human Resources                        39804\n",
       "Direct For Social, Behav & Economic Scie                        35298\n",
       "Office Of The Director                                          23277\n",
       "Office of Budget, Finance, & Award Management                     318\n",
       "Office Of Information & Resource Mgmt                             198\n",
       "Directorate for Engineering                                       100\n",
       "Directorate for Education & Human Resources                        97\n",
       "Directorate for Computer & Information Science & Engineering       97\n",
       "Directorate for Social, Behavioral & Economic Sciences             70\n",
       "Directorate for Biological Sciences                                66\n",
       "Directorate for Geosciences                                        52\n",
       "OFFICE OF THE DIRECTOR                                             28\n",
       "Directorate for Mathematical & Physical Sciences                   27\n",
       "National Coordination Office                                       15\n",
       "Office Of Polar Programs                                            3\n",
       "Office of Information & Resource Management                         3\n",
       "Natl Nanotechnology Coordinating Office                             3\n",
       "Name: org_direct, dtype: int64"
      ]
     },
     "execution_count": 34,
     "metadata": {},
     "output_type": "execute_result"
    }
   ],
   "source": [
    "df_short.org_direct.value_counts()"
   ]
  },
  {
   "cell_type": "markdown",
   "metadata": {},
   "source": [
    "Let's consolidate directorate names."
   ]
  },
  {
   "cell_type": "code",
   "execution_count": 35,
   "metadata": {},
   "outputs": [],
   "source": [
    "# make sure all names are lower case for comparison\n",
    "df_short.org_direct = df_short.org_direct.str.lower()"
   ]
  },
  {
   "cell_type": "code",
   "execution_count": 49,
   "metadata": {},
   "outputs": [],
   "source": [
    "# keep only words\n",
    "df_short.org_direct = df_short.org_direct.str.findall('\\w+')"
   ]
  },
  {
   "cell_type": "code",
   "execution_count": 45,
   "metadata": {},
   "outputs": [],
   "source": [
    "# remove stopwords\n",
    "df_short.loc[df_short.org_direct.notnull(), 'org_direct'] = \\\n",
    "    df_short.loc[df_short.org_direct.notnull(), 'org_direct'].apply( \\\n",
    "    lambda x: [word for word in x if word not in stop_words.ENGLISH_STOP_WORDS])"
   ]
  },
  {
   "cell_type": "code",
   "execution_count": 52,
   "metadata": {},
   "outputs": [],
   "source": [
    "# recombine text\n",
    "df_short.org_direct = df_short.org_direct.str.join(' ')"
   ]
  },
  {
   "cell_type": "code",
   "execution_count": 54,
   "metadata": {},
   "outputs": [],
   "source": [
    "# get all possible directorate name\n",
    "s_direct_names = df_short.org_direct.value_counts()"
   ]
  },
  {
   "cell_type": "code",
   "execution_count": 55,
   "metadata": {},
   "outputs": [],
   "source": [
    "# derive word count in each directorate name\n",
    "direct_names_len = {direct: len(direct.split()) for direct in s_direct_names.index}"
   ]
  },
  {
   "cell_type": "code",
   "execution_count": 57,
   "metadata": {},
   "outputs": [],
   "source": [
    "def are_letters_common(abbr, full_word):\n",
    "    \"\"\"\n",
    "    returns true if all letters in abbreviation abbr are present in full_word\n",
    "    \"\"\"\n",
    "    # check if all letters are in full_word\n",
    "    for l in list(abbr):\n",
    "        \n",
    "        if l not in full_word:\n",
    "            \n",
    "            return False\n",
    "    \n",
    "    # true if loop completed (all letters in full)\n",
    "    return True"
   ]
  },
  {
   "cell_type": "code",
   "execution_count": 58,
   "metadata": {},
   "outputs": [],
   "source": [
    "def find_abbreviations(valcount_dict):\n",
    "    \"\"\"\n",
    "    make pairs of abbreviated, non-abbreviated names\n",
    "    \"\"\"\n",
    "    # make two lists: abbrevation list and replacement list\n",
    "    abbreviation = []\n",
    "    replacement = []\n",
    "    \n",
    "    # group dict by value\n",
    "    for w_cnt in range(min(valcount_dict.values()), max(valcount_dict.values())+1):\n",
    "        \n",
    "        # make a list of keys which have the same count\n",
    "        list4pairs = [kp.split() for kp,vp in valcount_dict.items() if vp == w_cnt]\n",
    "        \n",
    "        # make a list of pair combinations\n",
    "        pairs = list(combinations(list4pairs , 2))\n",
    "        \n",
    "        # compare pairs\n",
    "        for p in pairs:\n",
    "            abbre_list =[]\n",
    "            repl_list = []\n",
    "            \n",
    "            # compare word by word\n",
    "            for w in range(w_cnt):\n",
    "                \n",
    "                # get abbreviated word and longer word (full)\n",
    "                if len(p[0][w]) >=  len(p[1][w]):\n",
    "                    abbre_word = p[1][w]\n",
    "                    full_word = p[0][w]\n",
    "                else:\n",
    "                    abbre_word = p[0][w]\n",
    "                    full_word = p[1][w]\n",
    "                \n",
    "                # do they have the same root?\n",
    "                # test if all letters in abbre_word are in full_word\n",
    "                if are_letters_common(abbre_word,full_word):\n",
    "                    abbre_list.append(abbre_word)\n",
    "                    repl_list.append(full_word)\n",
    "                else:\n",
    "                    # root is different, move on\n",
    "                    # decrement w to indicate loop ended with a break statement\n",
    "                    w -= 1\n",
    "                    break\n",
    "            # if for loop complete, concatenate word list\n",
    "            if w == w_cnt-1:\n",
    "                abbreviation.append(' '.join(abbre_list))\n",
    "                replacement.append(' '.join(repl_list))\n",
    "                \n",
    "    # return two list\n",
    "    return abbreviation,replacement"
   ]
  },
  {
   "cell_type": "code",
   "execution_count": 59,
   "metadata": {},
   "outputs": [],
   "source": [
    "# figure out directorate name that matches non abrreviated name\n",
    "abbreviation, replacement = find_abbreviations(direct_names_len)"
   ]
  },
  {
   "cell_type": "code",
   "execution_count": 67,
   "metadata": {},
   "outputs": [
    {
     "name": "stdout",
     "output_type": "stream",
     "text": [
      "direct biological sciences  --->  directorate biological sciences\n",
      "direct mathematical physical scien  --->  directorate mathematical physical sciences\n",
      "office information resource mgmt  --->  office information resource management\n",
      "direct education human resources  --->  directorate education human resources\n",
      "direct social behav economic scie  --->  directorate social behavioral economic sciences\n",
      "direct computer info scie enginr  --->  directorate computer information science engineering\n"
     ]
    }
   ],
   "source": [
    "for a, r in zip(abbreviation, replacement):\n",
    "    print('{}  --->  {}'.format(a, r))"
   ]
  },
  {
   "cell_type": "code",
   "execution_count": 68,
   "metadata": {},
   "outputs": [],
   "source": [
    "# replace each abbreviation by full name\n",
    "df_short.org_direct.replace(to_replace=abbreviation, value=replacement, inplace=True, method='pad')"
   ]
  },
  {
   "cell_type": "code",
   "execution_count": 69,
   "metadata": {},
   "outputs": [],
   "source": [
    "# remove row where directorate is missing\n",
    "df_short.dropna(subset=['org_direct'], inplace=True )"
   ]
  },
  {
   "cell_type": "code",
   "execution_count": 71,
   "metadata": {},
   "outputs": [],
   "source": [
    "# removes all offices instances\n",
    "df_short = df_short[ ~df_short.org_direct.str.contains('office', case=False) ]"
   ]
  },
  {
   "cell_type": "code",
   "execution_count": 73,
   "metadata": {},
   "outputs": [
    {
     "data": {
      "text/plain": [
       "directorate mathematical physical sciences              90613\n",
       "directorate engineering                                 70818\n",
       "directorate biological sciences                         62490\n",
       "directorate geosciences                                 62011\n",
       "directorate computer information science engineering    53176\n",
       "directorate education human resources                   39901\n",
       "directorate social behavioral economic sciences         35368\n",
       "Name: org_direct, dtype: int64"
      ]
     },
     "execution_count": 73,
     "metadata": {},
     "output_type": "execute_result"
    }
   ],
   "source": [
    "df_short.org_direct.value_counts()"
   ]
  },
  {
   "cell_type": "code",
   "execution_count": null,
   "metadata": {},
   "outputs": [],
   "source": [
    "# dataframe to merge with abstract\n",
    "df_short.loc[:, ['AwardID', 'Directorate_Name']]"
   ]
  },
  {
   "cell_type": "code",
   "execution_count": null,
   "metadata": {},
   "outputs": [],
   "source": []
  },
  {
   "cell_type": "code",
   "execution_count": null,
   "metadata": {},
   "outputs": [],
   "source": []
  },
  {
   "cell_type": "code",
   "execution_count": null,
   "metadata": {},
   "outputs": [],
   "source": []
  },
  {
   "cell_type": "code",
   "execution_count": null,
   "metadata": {},
   "outputs": [],
   "source": []
  },
  {
   "cell_type": "code",
   "execution_count": null,
   "metadata": {},
   "outputs": [],
   "source": []
  },
  {
   "cell_type": "code",
   "execution_count": null,
   "metadata": {},
   "outputs": [],
   "source": []
  },
  {
   "cell_type": "code",
   "execution_count": null,
   "metadata": {},
   "outputs": [],
   "source": []
  },
  {
   "cell_type": "code",
   "execution_count": null,
   "metadata": {},
   "outputs": [],
   "source": []
  },
  {
   "cell_type": "code",
   "execution_count": null,
   "metadata": {},
   "outputs": [],
   "source": []
  },
  {
   "cell_type": "code",
   "execution_count": null,
   "metadata": {},
   "outputs": [],
   "source": []
  },
  {
   "cell_type": "code",
   "execution_count": null,
   "metadata": {},
   "outputs": [],
   "source": []
  },
  {
   "cell_type": "code",
   "execution_count": null,
   "metadata": {},
   "outputs": [],
   "source": [
    "# retrieve institution information\n",
    "df_institution = json_normalize(d, record_path='Institution', meta=['award_id'])"
   ]
  },
  {
   "cell_type": "code",
   "execution_count": null,
   "metadata": {},
   "outputs": [],
   "source": [
    "df_institution.head()"
   ]
  },
  {
   "cell_type": "code",
   "execution_count": null,
   "metadata": {},
   "outputs": [],
   "source": []
  },
  {
   "cell_type": "code",
   "execution_count": null,
   "metadata": {},
   "outputs": [],
   "source": []
  },
  {
   "cell_type": "code",
   "execution_count": null,
   "metadata": {},
   "outputs": [],
   "source": [
    "# df_short = pd.read_json(short_elements_dir, orient='values')"
   ]
  },
  {
   "cell_type": "code",
   "execution_count": null,
   "metadata": {},
   "outputs": [],
   "source": [
    "# with open(short_elements_dir, encoding='utf-8') as f:\n",
    "#     d = json.load(f)"
   ]
  },
  {
   "cell_type": "code",
   "execution_count": null,
   "metadata": {
    "scrolled": false
   },
   "outputs": [],
   "source": [
    "# json_normalize(d, record_path='org_direct')"
   ]
  }
 ],
 "metadata": {
  "kernelspec": {
   "display_name": "Python 3",
   "language": "python",
   "name": "python3"
  },
  "language_info": {
   "codemirror_mode": {
    "name": "ipython",
    "version": 3
   },
   "file_extension": ".py",
   "mimetype": "text/x-python",
   "name": "python",
   "nbconvert_exporter": "python",
   "pygments_lexer": "ipython3",
   "version": "3.5.4"
  }
 },
 "nbformat": 4,
 "nbformat_minor": 2
}
