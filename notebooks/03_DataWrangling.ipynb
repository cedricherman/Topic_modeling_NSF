{
 "cells": [
  {
   "cell_type": "markdown",
   "metadata": {},
   "source": [
    "# Data Wrangling"
   ]
  },
  {
   "cell_type": "markdown",
   "metadata": {},
   "source": [
    "THe NSF is organized by directorate as follows:\n",
    "1. Directorate for Biological Sciences\n",
    "2. Directorate for Computer & Information Science & Engineering\n",
    "3. Directorate for Education & Human Resources\n",
    "4. Directorate for Engineering\n",
    "5. Directorate for Geosciences\n",
    "6. Directorate for Mathematical & Physical Sciences\n",
    "7. Directorate for Social, Behavioral & Economic Sciences\n",
    "\n",
    "It seems natural to think those would be topics we can identify based on award's abstracts.\n",
    "Each directorate has multiple division.\n",
    "There is also a number of offices which we will group together \n",
    "and treat them at the same level as directorate\n",
    "\n",
    "First, let's take a look at our short element data."
   ]
  },
  {
   "cell_type": "code",
   "execution_count": 52,
   "metadata": {},
   "outputs": [],
   "source": [
    "import pandas as pd\n",
    "import os\n",
    "import re\n",
    "import json\n",
    "from itertools import chain, combinations\n",
    "from sklearn.feature_extraction import stop_words\n",
    "from pandas.io.json import json_normalize"
   ]
  },
  {
   "cell_type": "code",
   "execution_count": 2,
   "metadata": {},
   "outputs": [],
   "source": [
    "# path to short element json file\n",
    "short_elements_dir = os.path.join(os.pardir,'data', 'interim', 'short_elements.json')"
   ]
  },
  {
   "cell_type": "code",
   "execution_count": 3,
   "metadata": {},
   "outputs": [],
   "source": [
    "# decode json file\n",
    "with open(short_elements_dir, encoding='utf-8') as f:\n",
    "    d = json.load(f)"
   ]
  },
  {
   "cell_type": "code",
   "execution_count": 4,
   "metadata": {},
   "outputs": [],
   "source": [
    "# create dataframe based on list of dictionaries\n",
    "df_short = json_normalize(d, meta=['award_id', 'award_instr'])\n",
    "# remove nested data (some keys have value that contains list of dict)\n",
    "df_short = df_short.drop(['Institution', 'Investigator', 'ProgramElement'], axis = 1)"
   ]
  },
  {
   "cell_type": "code",
   "execution_count": 5,
   "metadata": {
    "scrolled": false
   },
   "outputs": [
    {
     "data": {
      "text/html": [
       "<div>\n",
       "<style>\n",
       "    .dataframe thead tr:only-child th {\n",
       "        text-align: right;\n",
       "    }\n",
       "\n",
       "    .dataframe thead th {\n",
       "        text-align: left;\n",
       "    }\n",
       "\n",
       "    .dataframe tbody tr th {\n",
       "        vertical-align: top;\n",
       "    }\n",
       "</style>\n",
       "<table border=\"1\" class=\"dataframe\">\n",
       "  <thead>\n",
       "    <tr style=\"text-align: right;\">\n",
       "      <th></th>\n",
       "      <th>amount</th>\n",
       "      <th>award_id</th>\n",
       "      <th>award_instr</th>\n",
       "      <th>eff_date</th>\n",
       "      <th>exp_date</th>\n",
       "      <th>nsf_officer</th>\n",
       "      <th>org_code</th>\n",
       "      <th>org_direct</th>\n",
       "      <th>org_div</th>\n",
       "      <th>title</th>\n",
       "    </tr>\n",
       "  </thead>\n",
       "  <tbody>\n",
       "    <tr>\n",
       "      <th>0</th>\n",
       "      <td>125000</td>\n",
       "      <td>6000001</td>\n",
       "      <td>Standard Grant</td>\n",
       "      <td>04/15/1960</td>\n",
       "      <td>03/31/1960</td>\n",
       "      <td>name not available</td>\n",
       "      <td>5010000</td>\n",
       "      <td>Direct For Computer &amp; Info Scie &amp; Enginr</td>\n",
       "      <td>Division of Computing and Communication Founda...</td>\n",
       "      <td>Chemical Education Material Study (G12226)</td>\n",
       "    </tr>\n",
       "    <tr>\n",
       "      <th>1</th>\n",
       "      <td>28000</td>\n",
       "      <td>6100002</td>\n",
       "      <td>Standard Grant</td>\n",
       "      <td>12/15/1961</td>\n",
       "      <td>12/31/1962</td>\n",
       "      <td>name not available</td>\n",
       "      <td>5020000</td>\n",
       "      <td>Direct For Computer &amp; Info Scie &amp; Enginr</td>\n",
       "      <td>Div Of Information &amp; Intelligent Systems</td>\n",
       "      <td>Translation and Publication of the 1961 Issues...</td>\n",
       "    </tr>\n",
       "    <tr>\n",
       "      <th>2</th>\n",
       "      <td>40160</td>\n",
       "      <td>6100003</td>\n",
       "      <td>Standard Grant</td>\n",
       "      <td>12/15/1961</td>\n",
       "      <td>01/31/1965</td>\n",
       "      <td>name not available</td>\n",
       "      <td>5090000</td>\n",
       "      <td>Direct For Computer &amp; Info Scie &amp; Enginr</td>\n",
       "      <td>Office of Advanced Cyberinfrastructure (OAC)</td>\n",
       "      <td>Advanced Science Seminar in Soil Clay Mineralo...</td>\n",
       "    </tr>\n",
       "    <tr>\n",
       "      <th>3</th>\n",
       "      <td></td>\n",
       "      <td>6100004</td>\n",
       "      <td>Standard Grant</td>\n",
       "      <td>02/15/1962</td>\n",
       "      <td>05/31/1966</td>\n",
       "      <td>name not available</td>\n",
       "      <td>5010200</td>\n",
       "      <td>Direct For Computer &amp; Info Scie &amp; Enginr</td>\n",
       "      <td>Division of Computing and Communication Founda...</td>\n",
       "      <td>Development of Science Teaching Materials For ...</td>\n",
       "    </tr>\n",
       "    <tr>\n",
       "      <th>4</th>\n",
       "      <td>1334824</td>\n",
       "      <td>6100005</td>\n",
       "      <td>Standard Grant</td>\n",
       "      <td>02/15/1962</td>\n",
       "      <td>09/30/1968</td>\n",
       "      <td>name not available</td>\n",
       "      <td>5010200</td>\n",
       "      <td>Direct For Computer &amp; Info Scie &amp; Enginr</td>\n",
       "      <td>Division of Computing and Communication Founda...</td>\n",
       "      <td>A Project For the Development of the Education...</td>\n",
       "    </tr>\n",
       "  </tbody>\n",
       "</table>\n",
       "</div>"
      ],
      "text/plain": [
       "    amount  award_id     award_instr    eff_date    exp_date  \\\n",
       "0   125000   6000001  Standard Grant  04/15/1960  03/31/1960   \n",
       "1    28000   6100002  Standard Grant  12/15/1961  12/31/1962   \n",
       "2    40160   6100003  Standard Grant  12/15/1961  01/31/1965   \n",
       "3            6100004  Standard Grant  02/15/1962  05/31/1966   \n",
       "4  1334824   6100005  Standard Grant  02/15/1962  09/30/1968   \n",
       "\n",
       "            nsf_officer org_code                                org_direct  \\\n",
       "0    name not available  5010000  Direct For Computer & Info Scie & Enginr   \n",
       "1    name not available  5020000  Direct For Computer & Info Scie & Enginr   \n",
       "2    name not available  5090000  Direct For Computer & Info Scie & Enginr   \n",
       "3    name not available  5010200  Direct For Computer & Info Scie & Enginr   \n",
       "4    name not available  5010200  Direct For Computer & Info Scie & Enginr   \n",
       "\n",
       "                                             org_div  \\\n",
       "0  Division of Computing and Communication Founda...   \n",
       "1           Div Of Information & Intelligent Systems   \n",
       "2       Office of Advanced Cyberinfrastructure (OAC)   \n",
       "3  Division of Computing and Communication Founda...   \n",
       "4  Division of Computing and Communication Founda...   \n",
       "\n",
       "                                               title  \n",
       "0         Chemical Education Material Study (G12226)  \n",
       "1  Translation and Publication of the 1961 Issues...  \n",
       "2  Advanced Science Seminar in Soil Clay Mineralo...  \n",
       "3  Development of Science Teaching Materials For ...  \n",
       "4  A Project For the Development of the Education...  "
      ]
     },
     "execution_count": 5,
     "metadata": {},
     "output_type": "execute_result"
    }
   ],
   "source": [
    "df_short.head()"
   ]
  },
  {
   "cell_type": "markdown",
   "metadata": {},
   "source": [
    "When an officer name is not available, label it as Nan. The string 'name not available' has different spacing."
   ]
  },
  {
   "cell_type": "code",
   "execution_count": 6,
   "metadata": {},
   "outputs": [],
   "source": [
    "# separate each word \n",
    "df_short.nsf_officer = df_short.nsf_officer.str.split()\n",
    "# recombine in a controlled spacing convention\n",
    "df_short.nsf_officer = df_short.nsf_officer.str.join(' ')\n",
    "# replace missing officer's name by Nan\n",
    "df_short.nsf_officer.replace('name not available',pd.np.nan, inplace = True)"
   ]
  },
  {
   "cell_type": "markdown",
   "metadata": {},
   "source": [
    "Convert date to datetime object."
   ]
  },
  {
   "cell_type": "code",
   "execution_count": 7,
   "metadata": {},
   "outputs": [],
   "source": [
    "# convert date string to datetime object\n",
    "df_short.eff_date = pd.to_datetime(df_short.eff_date, format='%m/%d/%Y')\n",
    "df_short.exp_date = pd.to_datetime(df_short.exp_date, format='%m/%d/%Y')"
   ]
  },
  {
   "cell_type": "markdown",
   "metadata": {},
   "source": [
    "Mark missing amount as Nan"
   ]
  },
  {
   "cell_type": "code",
   "execution_count": 8,
   "metadata": {},
   "outputs": [],
   "source": [
    "df_short.amount.replace('', pd.np.nan, inplace = True)"
   ]
  },
  {
   "cell_type": "markdown",
   "metadata": {},
   "source": [
    "Mark missing directorate as Nan"
   ]
  },
  {
   "cell_type": "code",
   "execution_count": 9,
   "metadata": {},
   "outputs": [],
   "source": [
    "df_short.org_direct.replace('',pd.np.nan, inplace = True)"
   ]
  },
  {
   "cell_type": "code",
   "execution_count": 10,
   "metadata": {},
   "outputs": [
    {
     "name": "stdout",
     "output_type": "stream",
     "text": [
      "<class 'pandas.core.frame.DataFrame'>\n",
      "RangeIndex: 438352 entries, 0 to 438351\n",
      "Data columns (total 10 columns):\n",
      "amount         438245 non-null float64\n",
      "award_id       438352 non-null int64\n",
      "award_instr    438352 non-null object\n",
      "eff_date       438352 non-null datetime64[ns]\n",
      "exp_date       438352 non-null datetime64[ns]\n",
      "nsf_officer    368565 non-null object\n",
      "org_code       438352 non-null object\n",
      "org_direct     438222 non-null object\n",
      "org_div        438352 non-null object\n",
      "title          438352 non-null object\n",
      "dtypes: datetime64[ns](2), float64(1), int64(1), object(6)\n",
      "memory usage: 33.4+ MB\n"
     ]
    }
   ],
   "source": [
    "df_short.info()"
   ]
  },
  {
   "cell_type": "markdown",
   "metadata": {},
   "source": [
    "Directorate have different abbreviations. Office are also listed at the same level as directorate."
   ]
  },
  {
   "cell_type": "code",
   "execution_count": 11,
   "metadata": {},
   "outputs": [
    {
     "data": {
      "text/plain": [
       "Direct For Mathematical & Physical Scien                        90586\n",
       "Directorate For Engineering                                     70718\n",
       "Direct For Biological Sciences                                  62424\n",
       "Directorate For Geosciences                                     61959\n",
       "Direct For Computer & Info Scie & Enginr                        53079\n",
       "Direct For Education and Human Resources                        39804\n",
       "Direct For Social, Behav & Economic Scie                        35298\n",
       "Office Of The Director                                          23277\n",
       "Office of Budget, Finance, & Award Management                     318\n",
       "Office Of Information & Resource Mgmt                             198\n",
       "Directorate for Engineering                                       100\n",
       "Directorate for Computer & Information Science & Engineering       97\n",
       "Directorate for Education & Human Resources                        97\n",
       "Directorate for Social, Behavioral & Economic Sciences             70\n",
       "Directorate for Biological Sciences                                66\n",
       "Directorate for Geosciences                                        52\n",
       "OFFICE OF THE DIRECTOR                                             28\n",
       "Directorate for Mathematical & Physical Sciences                   27\n",
       "National Coordination Office                                       15\n",
       "Office of Information & Resource Management                         3\n",
       "Natl Nanotechnology Coordinating Office                             3\n",
       "Office Of Polar Programs                                            3\n",
       "Name: org_direct, dtype: int64"
      ]
     },
     "execution_count": 11,
     "metadata": {},
     "output_type": "execute_result"
    }
   ],
   "source": [
    "df_short.org_direct.value_counts()"
   ]
  },
  {
   "cell_type": "markdown",
   "metadata": {},
   "source": [
    "Let's consolidate directorate names."
   ]
  },
  {
   "cell_type": "code",
   "execution_count": 12,
   "metadata": {},
   "outputs": [],
   "source": [
    "# make sure all names are lower case for comparison\n",
    "df_short.org_direct = df_short.org_direct.str.lower()"
   ]
  },
  {
   "cell_type": "code",
   "execution_count": 13,
   "metadata": {},
   "outputs": [],
   "source": [
    "# keep only words\n",
    "df_short.org_direct = df_short.org_direct.str.findall('\\w+')"
   ]
  },
  {
   "cell_type": "code",
   "execution_count": 14,
   "metadata": {},
   "outputs": [],
   "source": [
    "# remove stopwords\n",
    "df_short.loc[df_short.org_direct.notnull(), 'org_direct'] = \\\n",
    "    df_short.loc[df_short.org_direct.notnull(), 'org_direct'].apply( \\\n",
    "    lambda x: [word for word in x if word not in stop_words.ENGLISH_STOP_WORDS])"
   ]
  },
  {
   "cell_type": "code",
   "execution_count": 15,
   "metadata": {},
   "outputs": [],
   "source": [
    "# recombine text\n",
    "df_short.org_direct = df_short.org_direct.str.join(' ')"
   ]
  },
  {
   "cell_type": "code",
   "execution_count": 16,
   "metadata": {},
   "outputs": [],
   "source": [
    "# get all possible directorate name\n",
    "s_direct_names = df_short.org_direct.value_counts()"
   ]
  },
  {
   "cell_type": "code",
   "execution_count": 17,
   "metadata": {},
   "outputs": [],
   "source": [
    "# derive word count in each directorate name\n",
    "direct_names_len = {direct: len(direct.split()) for direct in s_direct_names.index}"
   ]
  },
  {
   "cell_type": "markdown",
   "metadata": {},
   "source": [
    "### Utility function to identify text abbreviations"
   ]
  },
  {
   "cell_type": "code",
   "execution_count": 18,
   "metadata": {},
   "outputs": [],
   "source": [
    "def are_letters_common(abbr, full_word):\n",
    "    \"\"\"\n",
    "    returns true if all letters in abbreviation abbr are present in full_word\n",
    "    \"\"\"\n",
    "    # check if all letters are in full_word\n",
    "    for l in list(abbr):\n",
    "        \n",
    "        if l not in full_word:\n",
    "            \n",
    "            return False\n",
    "    \n",
    "    # true if loop completed (all letters in full)\n",
    "    return True"
   ]
  },
  {
   "cell_type": "code",
   "execution_count": 19,
   "metadata": {},
   "outputs": [],
   "source": [
    "def find_abbreviations(valcount_dict):\n",
    "    \"\"\"\n",
    "    make pairs of abbreviated, non-abbreviated names\n",
    "    \"\"\"\n",
    "    # make two lists: abbrevation list and replacement list\n",
    "    abbreviation = []\n",
    "    replacement = []\n",
    "    \n",
    "    # group dict by value\n",
    "    for w_cnt in range(min(valcount_dict.values()), max(valcount_dict.values())+1):\n",
    "        \n",
    "        # make a list of keys which have the same count\n",
    "        list4pairs = [kp.split() for kp,vp in valcount_dict.items() if vp == w_cnt]\n",
    "        \n",
    "        # make a list of pair combinations\n",
    "        pairs = list(combinations(list4pairs , 2))\n",
    "        \n",
    "        # compare pairs\n",
    "        for p in pairs:\n",
    "            abbre_list =[]\n",
    "            repl_list = []\n",
    "            \n",
    "            # compare word by word\n",
    "            for w in range(w_cnt):\n",
    "                \n",
    "                # get abbreviated word and longer word (full)\n",
    "                if len(p[0][w]) >=  len(p[1][w]):\n",
    "                    abbre_word = p[1][w]\n",
    "                    full_word = p[0][w]\n",
    "                else:\n",
    "                    abbre_word = p[0][w]\n",
    "                    full_word = p[1][w]\n",
    "                \n",
    "                # do they have the same root?\n",
    "                # test if all letters in abbre_word are in full_word\n",
    "                if are_letters_common(abbre_word,full_word):\n",
    "                    abbre_list.append(abbre_word)\n",
    "                    repl_list.append(full_word)\n",
    "                else:\n",
    "                    # root is different, move on\n",
    "                    # decrement w to indicate loop ended with a break statement\n",
    "                    w -= 1\n",
    "                    break\n",
    "            # if for loop complete, concatenate word list\n",
    "            if w == w_cnt-1:\n",
    "                abbreviation.append(' '.join(abbre_list))\n",
    "                replacement.append(' '.join(repl_list))\n",
    "                \n",
    "    # return two list\n",
    "    return abbreviation,replacement"
   ]
  },
  {
   "cell_type": "code",
   "execution_count": 20,
   "metadata": {},
   "outputs": [],
   "source": [
    "# figure out directorate name that matches non abrreviated name\n",
    "abbreviation, replacement = find_abbreviations(direct_names_len)"
   ]
  },
  {
   "cell_type": "code",
   "execution_count": 21,
   "metadata": {},
   "outputs": [
    {
     "name": "stdout",
     "output_type": "stream",
     "text": [
      "direct biological sciences  --->  directorate biological sciences\n",
      "office information resource mgmt  --->  office information resource management\n",
      "direct education human resources  --->  directorate education human resources\n",
      "direct mathematical physical scien  --->  directorate mathematical physical sciences\n",
      "direct computer info scie enginr  --->  directorate computer information science engineering\n",
      "direct social behav economic scie  --->  directorate social behavioral economic sciences\n"
     ]
    }
   ],
   "source": [
    "for a, r in zip(abbreviation, replacement):\n",
    "    print('{}  --->  {}'.format(a, r))"
   ]
  },
  {
   "cell_type": "code",
   "execution_count": 22,
   "metadata": {},
   "outputs": [],
   "source": [
    "# replace each abbreviation by full name\n",
    "df_short.org_direct.replace(to_replace=abbreviation, value=replacement, inplace=True, method='pad')"
   ]
  },
  {
   "cell_type": "code",
   "execution_count": 23,
   "metadata": {},
   "outputs": [],
   "source": [
    "# remove row where directorate is missing\n",
    "df_short.dropna(subset=['org_direct'], inplace=True )"
   ]
  },
  {
   "cell_type": "code",
   "execution_count": 24,
   "metadata": {},
   "outputs": [],
   "source": [
    "# removes all offices instances\n",
    "df_short = df_short[ ~df_short.org_direct.str.contains('office', case=False) ]"
   ]
  },
  {
   "cell_type": "markdown",
   "metadata": {},
   "source": [
    "### We did it! Only 7 unique directorates"
   ]
  },
  {
   "cell_type": "code",
   "execution_count": 25,
   "metadata": {},
   "outputs": [
    {
     "data": {
      "text/plain": [
       "directorate mathematical physical sciences              90613\n",
       "directorate engineering                                 70818\n",
       "directorate biological sciences                         62490\n",
       "directorate geosciences                                 62011\n",
       "directorate computer information science engineering    53176\n",
       "directorate education human resources                   39901\n",
       "directorate social behavioral economic sciences         35368\n",
       "Name: org_direct, dtype: int64"
      ]
     },
     "execution_count": 25,
     "metadata": {},
     "output_type": "execute_result"
    }
   ],
   "source": [
    "df_short.org_direct.value_counts()"
   ]
  },
  {
   "cell_type": "code",
   "execution_count": 34,
   "metadata": {},
   "outputs": [],
   "source": [
    "# dataframe to merge with abstract\n",
    "df_direct = df_short.loc[:, ['award_id', 'org_direct', 'eff_date']]"
   ]
  },
  {
   "cell_type": "code",
   "execution_count": 35,
   "metadata": {},
   "outputs": [
    {
     "data": {
      "text/html": [
       "<div>\n",
       "<style>\n",
       "    .dataframe thead tr:only-child th {\n",
       "        text-align: right;\n",
       "    }\n",
       "\n",
       "    .dataframe thead th {\n",
       "        text-align: left;\n",
       "    }\n",
       "\n",
       "    .dataframe tbody tr th {\n",
       "        vertical-align: top;\n",
       "    }\n",
       "</style>\n",
       "<table border=\"1\" class=\"dataframe\">\n",
       "  <thead>\n",
       "    <tr style=\"text-align: right;\">\n",
       "      <th></th>\n",
       "      <th>award_id</th>\n",
       "      <th>org_direct</th>\n",
       "      <th>eff_date</th>\n",
       "    </tr>\n",
       "  </thead>\n",
       "  <tbody>\n",
       "    <tr>\n",
       "      <th>0</th>\n",
       "      <td>6000001</td>\n",
       "      <td>directorate computer information science engin...</td>\n",
       "      <td>1960-04-15</td>\n",
       "    </tr>\n",
       "    <tr>\n",
       "      <th>1</th>\n",
       "      <td>6100002</td>\n",
       "      <td>directorate computer information science engin...</td>\n",
       "      <td>1961-12-15</td>\n",
       "    </tr>\n",
       "    <tr>\n",
       "      <th>2</th>\n",
       "      <td>6100003</td>\n",
       "      <td>directorate computer information science engin...</td>\n",
       "      <td>1961-12-15</td>\n",
       "    </tr>\n",
       "    <tr>\n",
       "      <th>3</th>\n",
       "      <td>6100004</td>\n",
       "      <td>directorate computer information science engin...</td>\n",
       "      <td>1962-02-15</td>\n",
       "    </tr>\n",
       "    <tr>\n",
       "      <th>4</th>\n",
       "      <td>6100005</td>\n",
       "      <td>directorate computer information science engin...</td>\n",
       "      <td>1962-02-15</td>\n",
       "    </tr>\n",
       "  </tbody>\n",
       "</table>\n",
       "</div>"
      ],
      "text/plain": [
       "   award_id                                         org_direct   eff_date\n",
       "0   6000001  directorate computer information science engin... 1960-04-15\n",
       "1   6100002  directorate computer information science engin... 1961-12-15\n",
       "2   6100003  directorate computer information science engin... 1961-12-15\n",
       "3   6100004  directorate computer information science engin... 1962-02-15\n",
       "4   6100005  directorate computer information science engin... 1962-02-15"
      ]
     },
     "execution_count": 35,
     "metadata": {},
     "output_type": "execute_result"
    }
   ],
   "source": [
    "df_direct.head()"
   ]
  },
  {
   "cell_type": "markdown",
   "metadata": {},
   "source": [
    "### Load abstracts and merge them with directorate"
   ]
  },
  {
   "cell_type": "code",
   "execution_count": 27,
   "metadata": {},
   "outputs": [],
   "source": [
    "# path to abstract json file\n",
    "abstracts_dir = os.path.join(os.pardir,'data', 'interim', 'abstracts.json')   "
   ]
  },
  {
   "cell_type": "code",
   "execution_count": 31,
   "metadata": {},
   "outputs": [
    {
     "data": {
      "text/html": [
       "<div>\n",
       "<style>\n",
       "    .dataframe thead tr:only-child th {\n",
       "        text-align: right;\n",
       "    }\n",
       "\n",
       "    .dataframe thead th {\n",
       "        text-align: left;\n",
       "    }\n",
       "\n",
       "    .dataframe tbody tr th {\n",
       "        vertical-align: top;\n",
       "    }\n",
       "</style>\n",
       "<table border=\"1\" class=\"dataframe\">\n",
       "  <thead>\n",
       "    <tr style=\"text-align: right;\">\n",
       "      <th></th>\n",
       "      <th>abstract</th>\n",
       "      <th>award_id</th>\n",
       "    </tr>\n",
       "  </thead>\n",
       "  <tbody>\n",
       "    <tr>\n",
       "      <th>438347</th>\n",
       "      <td>This project focuses on telomerase, the  enzym...</td>\n",
       "      <td>1764273</td>\n",
       "    </tr>\n",
       "    <tr>\n",
       "      <th>438348</th>\n",
       "      <td>Modern massive data appear in increasing volum...</td>\n",
       "      <td>1764280</td>\n",
       "    </tr>\n",
       "    <tr>\n",
       "      <th>438349</th>\n",
       "      <td>The broader impact/commercial potential of thi...</td>\n",
       "      <td>1764312</td>\n",
       "    </tr>\n",
       "    <tr>\n",
       "      <th>438350</th>\n",
       "      <td>This project will examine historical changes i...</td>\n",
       "      <td>1764418</td>\n",
       "    </tr>\n",
       "    <tr>\n",
       "      <th>438351</th>\n",
       "      <td>This award will provide support for the attend...</td>\n",
       "      <td>1764420</td>\n",
       "    </tr>\n",
       "  </tbody>\n",
       "</table>\n",
       "</div>"
      ],
      "text/plain": [
       "                                                 abstract  award_id\n",
       "438347  This project focuses on telomerase, the  enzym...   1764273\n",
       "438348  Modern massive data appear in increasing volum...   1764280\n",
       "438349  The broader impact/commercial potential of thi...   1764312\n",
       "438350  This project will examine historical changes i...   1764418\n",
       "438351  This award will provide support for the attend...   1764420"
      ]
     },
     "execution_count": 31,
     "metadata": {},
     "output_type": "execute_result"
    }
   ],
   "source": [
    "# read abstracts\n",
    "df_abstract = pd.read_json(abstracts_dir)\n",
    "df_abtract.tail()"
   ]
  },
  {
   "cell_type": "markdown",
   "metadata": {},
   "source": [
    "### Join abstract and directorate"
   ]
  },
  {
   "cell_type": "code",
   "execution_count": 36,
   "metadata": {},
   "outputs": [],
   "source": [
    "df_full = pd.merge(df_direct, df_abstract, on = 'award_id')"
   ]
  },
  {
   "cell_type": "code",
   "execution_count": 40,
   "metadata": {},
   "outputs": [],
   "source": [
    "# some abstract were not available, especially early on (60s and 70s)\n",
    "df_full.dropna(subset=['abstract'], inplace=True)"
   ]
  },
  {
   "cell_type": "code",
   "execution_count": 41,
   "metadata": {},
   "outputs": [
    {
     "data": {
      "text/plain": [
       "(313987, 4)"
      ]
     },
     "execution_count": 41,
     "metadata": {},
     "output_type": "execute_result"
    }
   ],
   "source": [
    "df_full.shape"
   ]
  },
  {
   "cell_type": "code",
   "execution_count": 42,
   "metadata": {},
   "outputs": [
    {
     "data": {
      "text/html": [
       "<div>\n",
       "<style>\n",
       "    .dataframe thead tr:only-child th {\n",
       "        text-align: right;\n",
       "    }\n",
       "\n",
       "    .dataframe thead th {\n",
       "        text-align: left;\n",
       "    }\n",
       "\n",
       "    .dataframe tbody tr th {\n",
       "        vertical-align: top;\n",
       "    }\n",
       "</style>\n",
       "<table border=\"1\" class=\"dataframe\">\n",
       "  <thead>\n",
       "    <tr style=\"text-align: right;\">\n",
       "      <th></th>\n",
       "      <th>award_id</th>\n",
       "      <th>org_direct</th>\n",
       "      <th>eff_date</th>\n",
       "      <th>abstract</th>\n",
       "    </tr>\n",
       "  </thead>\n",
       "  <tbody>\n",
       "    <tr>\n",
       "      <th>69132</th>\n",
       "      <td>8313753</td>\n",
       "      <td>directorate engineering</td>\n",
       "      <td>1984-11-01</td>\n",
       "      <td>Due to their proven technology, reciprocating-...</td>\n",
       "    </tr>\n",
       "    <tr>\n",
       "      <th>69171</th>\n",
       "      <td>8313873</td>\n",
       "      <td>directorate engineering</td>\n",
       "      <td>1985-07-15</td>\n",
       "      <td>The goal of this research is to develop a tech...</td>\n",
       "    </tr>\n",
       "    <tr>\n",
       "      <th>69510</th>\n",
       "      <td>8315117</td>\n",
       "      <td>directorate engineering</td>\n",
       "      <td>1984-06-01</td>\n",
       "      <td>This research program will investigate the mec...</td>\n",
       "    </tr>\n",
       "    <tr>\n",
       "      <th>70146</th>\n",
       "      <td>8317279</td>\n",
       "      <td>directorate engineering</td>\n",
       "      <td>1984-12-01</td>\n",
       "      <td>This research is directed toward increasing th...</td>\n",
       "    </tr>\n",
       "    <tr>\n",
       "      <th>70890</th>\n",
       "      <td>8319762</td>\n",
       "      <td>directorate engineering</td>\n",
       "      <td>1984-11-01</td>\n",
       "      <td>This research involves both theoretical and ex...</td>\n",
       "    </tr>\n",
       "  </tbody>\n",
       "</table>\n",
       "</div>"
      ],
      "text/plain": [
       "       award_id               org_direct   eff_date  \\\n",
       "69132   8313753  directorate engineering 1984-11-01   \n",
       "69171   8313873  directorate engineering 1985-07-15   \n",
       "69510   8315117  directorate engineering 1984-06-01   \n",
       "70146   8317279  directorate engineering 1984-12-01   \n",
       "70890   8319762  directorate engineering 1984-11-01   \n",
       "\n",
       "                                                abstract  \n",
       "69132  Due to their proven technology, reciprocating-...  \n",
       "69171  The goal of this research is to develop a tech...  \n",
       "69510  This research program will investigate the mec...  \n",
       "70146  This research is directed toward increasing th...  \n",
       "70890  This research involves both theoretical and ex...  "
      ]
     },
     "execution_count": 42,
     "metadata": {},
     "output_type": "execute_result"
    }
   ],
   "source": [
    "df_full.head()"
   ]
  },
  {
   "cell_type": "code",
   "execution_count": 43,
   "metadata": {},
   "outputs": [],
   "source": [
    "topic_dir = os.path.join(os.pardir,'data', 'processed', 'topics.csv')   \n",
    "df_full.to_csv(topic_dir, index=False)"
   ]
  },
  {
   "cell_type": "markdown",
   "metadata": {},
   "source": [
    "### TODO: Extras"
   ]
  },
  {
   "cell_type": "code",
   "execution_count": 5,
   "metadata": {},
   "outputs": [],
   "source": [
    "df_investigator = json_normalize(d, record_path='Investigator', meta=['award_id'])"
   ]
  },
  {
   "cell_type": "code",
   "execution_count": 21,
   "metadata": {},
   "outputs": [],
   "source": [
    "# replace missing names by Nan\n",
    "df_investigator.FirstName.replace('',pd.np.nan, inplace = True)\n",
    "df_investigator.LastName.replace('',pd.np.nan, inplace = True)"
   ]
  },
  {
   "cell_type": "code",
   "execution_count": 22,
   "metadata": {},
   "outputs": [
    {
     "name": "stdout",
     "output_type": "stream",
     "text": [
      "<class 'pandas.core.frame.DataFrame'>\n",
      "RangeIndex: 664639 entries, 0 to 664638\n",
      "Data columns (total 4 columns):\n",
      "FirstName    662868 non-null object\n",
      "LastName     664599 non-null object\n",
      "Role         664639 non-null object\n",
      "award_id     664639 non-null int32\n",
      "dtypes: int32(1), object(3)\n",
      "memory usage: 17.7+ MB\n"
     ]
    }
   ],
   "source": [
    "df_investigator.info()"
   ]
  },
  {
   "cell_type": "code",
   "execution_count": 23,
   "metadata": {},
   "outputs": [
    {
     "data": {
      "text/html": [
       "<div>\n",
       "<style>\n",
       "    .dataframe thead tr:only-child th {\n",
       "        text-align: right;\n",
       "    }\n",
       "\n",
       "    .dataframe thead th {\n",
       "        text-align: left;\n",
       "    }\n",
       "\n",
       "    .dataframe tbody tr th {\n",
       "        vertical-align: top;\n",
       "    }\n",
       "</style>\n",
       "<table border=\"1\" class=\"dataframe\">\n",
       "  <thead>\n",
       "    <tr style=\"text-align: right;\">\n",
       "      <th></th>\n",
       "      <th>FirstName</th>\n",
       "      <th>LastName</th>\n",
       "      <th>Role</th>\n",
       "      <th>award_id</th>\n",
       "    </tr>\n",
       "  </thead>\n",
       "  <tbody>\n",
       "    <tr>\n",
       "      <th>0</th>\n",
       "      <td>Bart</td>\n",
       "      <td>Holm</td>\n",
       "      <td>Principal Investigator</td>\n",
       "      <td>6000001</td>\n",
       "    </tr>\n",
       "    <tr>\n",
       "      <th>1</th>\n",
       "      <td>Jeremy</td>\n",
       "      <td>Taylor</td>\n",
       "      <td>Principal Investigator</td>\n",
       "      <td>6100002</td>\n",
       "    </tr>\n",
       "    <tr>\n",
       "      <th>2</th>\n",
       "      <td>Charles</td>\n",
       "      <td>Rich</td>\n",
       "      <td>Principal Investigator</td>\n",
       "      <td>6100003</td>\n",
       "    </tr>\n",
       "    <tr>\n",
       "      <th>3</th>\n",
       "      <td>Jeremy</td>\n",
       "      <td>Taylor</td>\n",
       "      <td>Principal Investigator</td>\n",
       "      <td>6100004</td>\n",
       "    </tr>\n",
       "    <tr>\n",
       "      <th>4</th>\n",
       "      <td>Jeremy</td>\n",
       "      <td>Taylor</td>\n",
       "      <td>Principal Investigator</td>\n",
       "      <td>6100005</td>\n",
       "    </tr>\n",
       "  </tbody>\n",
       "</table>\n",
       "</div>"
      ],
      "text/plain": [
       "  FirstName LastName                    Role  award_id\n",
       "0      Bart     Holm  Principal Investigator   6000001\n",
       "1    Jeremy   Taylor  Principal Investigator   6100002\n",
       "2   Charles     Rich  Principal Investigator   6100003\n",
       "3    Jeremy   Taylor  Principal Investigator   6100004\n",
       "4    Jeremy   Taylor  Principal Investigator   6100005"
      ]
     },
     "execution_count": 23,
     "metadata": {},
     "output_type": "execute_result"
    }
   ],
   "source": [
    "df_investigator.head()"
   ]
  },
  {
   "cell_type": "code",
   "execution_count": 87,
   "metadata": {},
   "outputs": [],
   "source": [
    "def get_unq_names(serie_name):\n",
    "    \"\"\"\n",
    "        Returns set of unique names. Takes cares of barrelled names.\n",
    "        INPUT: Pandas series of string (object)\n",
    "    \"\"\"\n",
    "    # retrieve unique first names\n",
    "    names = set(serie_name[serie_name.notnull()])\n",
    "\n",
    "    # split barrelled names using same pattern used for abstracts\n",
    "    names = [ re.findall(r'(?u)\\b[a-zA-Z][a-zA-Z]+\\b', n) for n in names]\n",
    "\n",
    "    # flatten list of list and keep unique names\n",
    "    return set(chain.from_iterable(names))"
   ]
  },
  {
   "cell_type": "code",
   "execution_count": 90,
   "metadata": {},
   "outputs": [],
   "source": [
    "# Retrieve set of first and last names\n",
    "firstnames = get_unq_names(df_investigator.FirstName)\n",
    "lastnames = get_unq_names(df_investigator.LastName)"
   ]
  },
  {
   "cell_type": "code",
   "execution_count": 92,
   "metadata": {},
   "outputs": [
    {
     "data": {
      "text/plain": [
       "(21747, 75328, 97075)"
      ]
     },
     "execution_count": 92,
     "metadata": {},
     "output_type": "execute_result"
    }
   ],
   "source": [
    "len(firstnames), len(lastnames), len(firstnames)+len(lastnames)"
   ]
  },
  {
   "cell_type": "code",
   "execution_count": 93,
   "metadata": {},
   "outputs": [
    {
     "data": {
      "text/plain": [
       "92506"
      ]
     },
     "execution_count": 93,
     "metadata": {},
     "output_type": "execute_result"
    }
   ],
   "source": [
    "# consolidates set of names\n",
    "names = firstnames.union(lastnames)\n",
    "len(names)"
   ]
  },
  {
   "cell_type": "code",
   "execution_count": 99,
   "metadata": {},
   "outputs": [],
   "source": [
    "# make one long string to write to file\n",
    "str_names = '\\n'.join(names)\n",
    "# write to file\n",
    "with open(os.path.join(os.pardir, 'data', 'external', 'pi_names.txt'), 'w') as f:\n",
    "    f.write(str_names.lower())"
   ]
  },
  {
   "cell_type": "code",
   "execution_count": null,
   "metadata": {},
   "outputs": [],
   "source": []
  },
  {
   "cell_type": "code",
   "execution_count": null,
   "metadata": {},
   "outputs": [],
   "source": []
  },
  {
   "cell_type": "code",
   "execution_count": 44,
   "metadata": {},
   "outputs": [],
   "source": [
    "# retrieve institution information\n",
    "df_institution = json_normalize(d, record_path='Institution', meta=['award_id'])"
   ]
  },
  {
   "cell_type": "code",
   "execution_count": 45,
   "metadata": {},
   "outputs": [
    {
     "data": {
      "text/html": [
       "<div>\n",
       "<style>\n",
       "    .dataframe thead tr:only-child th {\n",
       "        text-align: right;\n",
       "    }\n",
       "\n",
       "    .dataframe thead th {\n",
       "        text-align: left;\n",
       "    }\n",
       "\n",
       "    .dataframe tbody tr th {\n",
       "        vertical-align: top;\n",
       "    }\n",
       "</style>\n",
       "<table border=\"1\" class=\"dataframe\">\n",
       "  <thead>\n",
       "    <tr style=\"text-align: right;\">\n",
       "      <th></th>\n",
       "      <th>City</th>\n",
       "      <th>Country</th>\n",
       "      <th>Name</th>\n",
       "      <th>State</th>\n",
       "      <th>StreetAddress</th>\n",
       "      <th>award_id</th>\n",
       "    </tr>\n",
       "  </thead>\n",
       "  <tbody>\n",
       "    <tr>\n",
       "      <th>0</th>\n",
       "      <td>BERKELEY</td>\n",
       "      <td>United States</td>\n",
       "      <td>University of California-Berkeley</td>\n",
       "      <td>CA</td>\n",
       "      <td>Sponsored Projects Office</td>\n",
       "      <td>6000001</td>\n",
       "    </tr>\n",
       "    <tr>\n",
       "      <th>1</th>\n",
       "      <td>Washington</td>\n",
       "      <td>United States</td>\n",
       "      <td>The Geochemical Society</td>\n",
       "      <td>DC</td>\n",
       "      <td>Carnegie Institution for Science</td>\n",
       "      <td>6100002</td>\n",
       "    </tr>\n",
       "    <tr>\n",
       "      <th>2</th>\n",
       "      <td>BLACKSBURG</td>\n",
       "      <td>United States</td>\n",
       "      <td>Virginia Polytechnic Institute and State Unive...</td>\n",
       "      <td>VA</td>\n",
       "      <td>Sponsored Programs 0170</td>\n",
       "      <td>6100003</td>\n",
       "    </tr>\n",
       "    <tr>\n",
       "      <th>3</th>\n",
       "      <td>WASHINGTON</td>\n",
       "      <td>United States</td>\n",
       "      <td>American Association For Advancement Science</td>\n",
       "      <td>DC</td>\n",
       "      <td>1200 NEW YORK AVENUE, N.W.</td>\n",
       "      <td>6100004</td>\n",
       "    </tr>\n",
       "    <tr>\n",
       "      <th>4</th>\n",
       "      <td>ARLINGTON</td>\n",
       "      <td>United States</td>\n",
       "      <td>American Anthropological Assoc</td>\n",
       "      <td>VA</td>\n",
       "      <td>2300 Clarendon Blvd, Suite 1301</td>\n",
       "      <td>6100005</td>\n",
       "    </tr>\n",
       "  </tbody>\n",
       "</table>\n",
       "</div>"
      ],
      "text/plain": [
       "         City        Country  \\\n",
       "0    BERKELEY  United States   \n",
       "1  Washington  United States   \n",
       "2  BLACKSBURG  United States   \n",
       "3  WASHINGTON  United States   \n",
       "4   ARLINGTON  United States   \n",
       "\n",
       "                                                Name State  \\\n",
       "0                  University of California-Berkeley    CA   \n",
       "1                            The Geochemical Society    DC   \n",
       "2  Virginia Polytechnic Institute and State Unive...    VA   \n",
       "3       American Association For Advancement Science    DC   \n",
       "4                     American Anthropological Assoc    VA   \n",
       "\n",
       "                      StreetAddress  award_id  \n",
       "0         Sponsored Projects Office   6000001  \n",
       "1  Carnegie Institution for Science   6100002  \n",
       "2           Sponsored Programs 0170   6100003  \n",
       "3        1200 NEW YORK AVENUE, N.W.   6100004  \n",
       "4   2300 Clarendon Blvd, Suite 1301   6100005  "
      ]
     },
     "execution_count": 45,
     "metadata": {},
     "output_type": "execute_result"
    }
   ],
   "source": [
    "df_institution.head()"
   ]
  },
  {
   "cell_type": "code",
   "execution_count": 47,
   "metadata": {},
   "outputs": [
    {
     "data": {
      "text/plain": [
       "19780"
      ]
     },
     "execution_count": 47,
     "metadata": {},
     "output_type": "execute_result"
    }
   ],
   "source": [
    "df_institution.Name.value_counts().count()"
   ]
  }
 ],
 "metadata": {
  "kernelspec": {
   "display_name": "Python 3",
   "language": "python",
   "name": "python3"
  },
  "language_info": {
   "codemirror_mode": {
    "name": "ipython",
    "version": 3
   },
   "file_extension": ".py",
   "mimetype": "text/x-python",
   "name": "python",
   "nbconvert_exporter": "python",
   "pygments_lexer": "ipython3",
   "version": "3.5.4"
  }
 },
 "nbformat": 4,
 "nbformat_minor": 2
}
